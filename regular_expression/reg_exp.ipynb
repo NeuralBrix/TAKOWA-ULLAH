{
 "cells": [
  {
   "cell_type": "code",
   "execution_count": 33,
   "id": "adf3085a",
   "metadata": {},
   "outputs": [],
   "source": [
    "import re"
   ]
  },
  {
   "cell_type": "code",
   "execution_count": 34,
   "id": "f57bf4ae",
   "metadata": {},
   "outputs": [],
   "source": [
    "text = \"cat cot cut sop\""
   ]
  },
  {
   "cell_type": "code",
   "execution_count": 35,
   "id": "243162c9",
   "metadata": {},
   "outputs": [
    {
     "data": {
      "text/plain": [
       "['cat', 'cot', 'cut']"
      ]
     },
     "execution_count": 35,
     "metadata": {},
     "output_type": "execute_result"
    }
   ],
   "source": [
    "re.findall(r\"c.t\", text)"
   ]
  },
  {
   "cell_type": "code",
   "execution_count": 36,
   "id": "bc053893",
   "metadata": {},
   "outputs": [],
   "source": [
    "text = \"a1b8bh9\"\n",
    "sample = re.findall(r\"[^0-9]\", text)"
   ]
  },
  {
   "cell_type": "code",
   "execution_count": 38,
   "id": "455d707c",
   "metadata": {},
   "outputs": [
    {
     "data": {
      "text/plain": [
       "'a, b, b, h'"
      ]
     },
     "execution_count": 38,
     "metadata": {},
     "output_type": "execute_result"
    }
   ],
   "source": [
    "', '.join(sample)"
   ]
  },
  {
   "cell_type": "code",
   "execution_count": 41,
   "id": "3113ac53",
   "metadata": {},
   "outputs": [
    {
     "data": {
      "text/plain": [
       "['bbz']"
      ]
     },
     "execution_count": 41,
     "metadata": {},
     "output_type": "execute_result"
    }
   ],
   "source": [
    "text = \"bbz i love you\"\n",
    "re.findall(r\"^bbz\", text)"
   ]
  },
  {
   "cell_type": "code",
   "execution_count": 46,
   "id": "060736e3",
   "metadata": {},
   "outputs": [
    {
     "data": {
      "text/plain": [
       "[\"'\",\n",
       " ';',\n",
       " ']',\n",
       " ';',\n",
       " '[',\n",
       " ';',\n",
       " ']',\n",
       " '[',\n",
       " ';',\n",
       " \"'\",\n",
       " \"'\",\n",
       " '.',\n",
       " ';',\n",
       " \"'\",\n",
       " ';',\n",
       " ';',\n",
       " ']',\n",
       " ';',\n",
       " \"'\"]"
      ]
     },
     "execution_count": 46,
     "metadata": {},
     "output_type": "execute_result"
    }
   ],
   "source": [
    "text = \"hsd98f7ayuh3o7i804ygbh48f';];[;][;''.;';;];'\"\n",
    "re.findall(r\"\\W\", text)"
   ]
  },
  {
   "cell_type": "code",
   "execution_count": null,
   "id": "f4f59faf",
   "metadata": {},
   "outputs": [],
   "source": []
  },
  {
   "cell_type": "code",
   "execution_count": null,
   "id": "201c05e7",
   "metadata": {},
   "outputs": [],
   "source": []
  },
  {
   "cell_type": "code",
   "execution_count": null,
   "id": "bdd9ee7e",
   "metadata": {},
   "outputs": [
    {
     "data": {
      "text/plain": [
       "'h,s,d,9,8,f,7,a,y,u,h,3,o,7,i,8,0,4,y,g,b,h,4,8,f'"
      ]
     },
     "execution_count": 51,
     "metadata": {},
     "output_type": "execute_result"
    }
   ],
   "source": [
    "sample = re.findall(r\"\\w\", text)\n",
    "new_text = ','.join(sample)\n",
    "new_text\\``"
   ]
  }
 ],
 "metadata": {
  "kernelspec": {
   "display_name": "myvenv",
   "language": "python",
   "name": "python3"
  },
  "language_info": {
   "codemirror_mode": {
    "name": "ipython",
    "version": 3
   },
   "file_extension": ".py",
   "mimetype": "text/x-python",
   "name": "python",
   "nbconvert_exporter": "python",
   "pygments_lexer": "ipython3",
   "version": "3.10.18"
  }
 },
 "nbformat": 4,
 "nbformat_minor": 5
}
