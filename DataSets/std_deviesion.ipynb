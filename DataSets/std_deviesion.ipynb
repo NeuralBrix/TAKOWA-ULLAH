{
 "cells": [
  {
   "cell_type": "code",
   "execution_count": 2,
   "id": "ca9e9aad",
   "metadata": {},
   "outputs": [],
   "source": [
    "import statistics as st"
   ]
  },
  {
   "cell_type": "code",
   "execution_count": 3,
   "id": "9867ffcc",
   "metadata": {},
   "outputs": [],
   "source": [
    "lis =[2, 3, 2, 4, 3, 4, 3, 6, 7, 8, 3]"
   ]
  },
  {
   "cell_type": "code",
   "execution_count": 6,
   "id": "c08bff71",
   "metadata": {},
   "outputs": [
    {
     "data": {
      "text/plain": [
       "1.928473039599675"
      ]
     },
     "execution_count": 6,
     "metadata": {},
     "output_type": "execute_result"
    }
   ],
   "source": [
    "p_std = st.pstdev(lis)\n",
    "p_std"
   ]
  },
  {
   "cell_type": "code",
   "execution_count": 7,
   "id": "a612faa8",
   "metadata": {},
   "outputs": [
    {
     "data": {
      "text/plain": [
       "3.71900826446281"
      ]
     },
     "execution_count": 7,
     "metadata": {},
     "output_type": "execute_result"
    }
   ],
   "source": [
    "p_variance = st.pvariance(lis)\n",
    "p_variance"
   ]
  },
  {
   "cell_type": "code",
   "execution_count": null,
   "id": "bf21d02c",
   "metadata": {},
   "outputs": [],
   "source": []
  },
  {
   "cell_type": "code",
   "execution_count": null,
   "id": "ee26703c",
   "metadata": {},
   "outputs": [],
   "source": []
  },
  {
   "cell_type": "code",
   "execution_count": null,
   "id": "b4806778",
   "metadata": {},
   "outputs": [],
   "source": []
  },
  {
   "cell_type": "code",
   "execution_count": null,
   "id": "00d108b5",
   "metadata": {},
   "outputs": [],
   "source": []
  },
  {
   "cell_type": "code",
   "execution_count": null,
   "id": "0b7b4153",
   "metadata": {},
   "outputs": [],
   "source": []
  },
  {
   "cell_type": "code",
   "execution_count": null,
   "id": "645a6f73",
   "metadata": {},
   "outputs": [],
   "source": []
  },
  {
   "cell_type": "code",
   "execution_count": null,
   "id": "9cfb6391",
   "metadata": {},
   "outputs": [],
   "source": []
  }
 ],
 "metadata": {
  "kernelspec": {
   "display_name": "myvenv",
   "language": "python",
   "name": "python3"
  },
  "language_info": {
   "codemirror_mode": {
    "name": "ipython",
    "version": 3
   },
   "file_extension": ".py",
   "mimetype": "text/x-python",
   "name": "python",
   "nbconvert_exporter": "python",
   "pygments_lexer": "ipython3",
   "version": "3.10.18"
  }
 },
 "nbformat": 4,
 "nbformat_minor": 5
}
