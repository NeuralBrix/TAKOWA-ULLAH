{
 "cells": [
  {
   "cell_type": "code",
   "execution_count": 1,
   "id": "d5d99e1d",
   "metadata": {},
   "outputs": [],
   "source": [
    "import pandas as pd"
   ]
  },
  {
   "cell_type": "code",
   "execution_count": 2,
   "id": "f967c5cc",
   "metadata": {},
   "outputs": [],
   "source": [
    "group_people = {\n",
    "    \"first_name\": [\"Nusrat\", \"Mehedi\", \"Tahmid\", \"Farhana\", \"Sadia\"],\n",
    "    \"last_name\":  [\"Jahan\", \"Hasan\", \"Rahman\", \"Akter\", \"Chowdhury\"],\n",
    "    \"email\": [\n",
    "        \"nusrat.jahan@brac.org\",          # illustrative\n",
    "        \"mehedi.hasan@bkash.com\",         # illustrative\n",
    "        \"tahmid.rahman@grameenphone.com\", # illustrative\n",
    "        \"farhana.akter@robi.com.bd\",      # illustrative\n",
    "        \"sadia.chowdhury@du.ac.bd\",       # illustrative\n",
    "    ],\n",
    "    \"company\": [\"BRAC\", \"bKash\", \"Grameenphone\", \"Robi\", \"University of Dhaka\"],\n",
    "}"
   ]
  },
  {
   "cell_type": "code",
   "execution_count": 3,
   "id": "f5c63a7a",
   "metadata": {},
   "outputs": [
    {
     "data": {
      "application/vnd.microsoft.datawrangler.viewer.v0+json": {
       "columns": [
        {
         "name": "index",
         "rawType": "int64",
         "type": "integer"
        },
        {
         "name": "first_name",
         "rawType": "object",
         "type": "string"
        },
        {
         "name": "last_name",
         "rawType": "object",
         "type": "string"
        },
        {
         "name": "email",
         "rawType": "object",
         "type": "string"
        },
        {
         "name": "company",
         "rawType": "object",
         "type": "string"
        }
       ],
       "ref": "ac6e7dfd-726c-479c-be41-6ae8b07469ec",
       "rows": [
        [
         "0",
         "Nusrat",
         "Jahan",
         "nusrat.jahan@brac.org",
         "BRAC"
        ],
        [
         "1",
         "Mehedi",
         "Hasan",
         "mehedi.hasan@bkash.com",
         "bKash"
        ],
        [
         "2",
         "Tahmid",
         "Rahman",
         "tahmid.rahman@grameenphone.com",
         "Grameenphone"
        ],
        [
         "3",
         "Farhana",
         "Akter",
         "farhana.akter@robi.com.bd",
         "Robi"
        ],
        [
         "4",
         "Sadia",
         "Chowdhury",
         "sadia.chowdhury@du.ac.bd",
         "University of Dhaka"
        ]
       ],
       "shape": {
        "columns": 4,
        "rows": 5
       }
      },
      "text/html": [
       "<div>\n",
       "<style scoped>\n",
       "    .dataframe tbody tr th:only-of-type {\n",
       "        vertical-align: middle;\n",
       "    }\n",
       "\n",
       "    .dataframe tbody tr th {\n",
       "        vertical-align: top;\n",
       "    }\n",
       "\n",
       "    .dataframe thead th {\n",
       "        text-align: right;\n",
       "    }\n",
       "</style>\n",
       "<table border=\"1\" class=\"dataframe\">\n",
       "  <thead>\n",
       "    <tr style=\"text-align: right;\">\n",
       "      <th></th>\n",
       "      <th>first_name</th>\n",
       "      <th>last_name</th>\n",
       "      <th>email</th>\n",
       "      <th>company</th>\n",
       "    </tr>\n",
       "  </thead>\n",
       "  <tbody>\n",
       "    <tr>\n",
       "      <th>0</th>\n",
       "      <td>Nusrat</td>\n",
       "      <td>Jahan</td>\n",
       "      <td>nusrat.jahan@brac.org</td>\n",
       "      <td>BRAC</td>\n",
       "    </tr>\n",
       "    <tr>\n",
       "      <th>1</th>\n",
       "      <td>Mehedi</td>\n",
       "      <td>Hasan</td>\n",
       "      <td>mehedi.hasan@bkash.com</td>\n",
       "      <td>bKash</td>\n",
       "    </tr>\n",
       "    <tr>\n",
       "      <th>2</th>\n",
       "      <td>Tahmid</td>\n",
       "      <td>Rahman</td>\n",
       "      <td>tahmid.rahman@grameenphone.com</td>\n",
       "      <td>Grameenphone</td>\n",
       "    </tr>\n",
       "    <tr>\n",
       "      <th>3</th>\n",
       "      <td>Farhana</td>\n",
       "      <td>Akter</td>\n",
       "      <td>farhana.akter@robi.com.bd</td>\n",
       "      <td>Robi</td>\n",
       "    </tr>\n",
       "    <tr>\n",
       "      <th>4</th>\n",
       "      <td>Sadia</td>\n",
       "      <td>Chowdhury</td>\n",
       "      <td>sadia.chowdhury@du.ac.bd</td>\n",
       "      <td>University of Dhaka</td>\n",
       "    </tr>\n",
       "  </tbody>\n",
       "</table>\n",
       "</div>"
      ],
      "text/plain": [
       "  first_name  last_name                           email              company\n",
       "0     Nusrat      Jahan           nusrat.jahan@brac.org                 BRAC\n",
       "1     Mehedi      Hasan          mehedi.hasan@bkash.com                bKash\n",
       "2     Tahmid     Rahman  tahmid.rahman@grameenphone.com         Grameenphone\n",
       "3    Farhana      Akter       farhana.akter@robi.com.bd                 Robi\n",
       "4      Sadia  Chowdhury        sadia.chowdhury@du.ac.bd  University of Dhaka"
      ]
     },
     "execution_count": 3,
     "metadata": {},
     "output_type": "execute_result"
    }
   ],
   "source": [
    "df = pd.DataFrame(group_people)\n",
    "df"
   ]
  },
  {
   "cell_type": "code",
   "execution_count": 4,
   "id": "ba5aaa95",
   "metadata": {},
   "outputs": [],
   "source": [
    "df.loc[len(df)] = [\"takwoa\", \"ullah\", \"takowaullah@gmail.com\", 'microsoft']"
   ]
  },
  {
   "cell_type": "code",
   "execution_count": 5,
   "id": "bd2d81a7",
   "metadata": {},
   "outputs": [
    {
     "data": {
      "application/vnd.microsoft.datawrangler.viewer.v0+json": {
       "columns": [
        {
         "name": "index",
         "rawType": "int64",
         "type": "integer"
        },
        {
         "name": "first_name",
         "rawType": "object",
         "type": "string"
        },
        {
         "name": "last_name",
         "rawType": "object",
         "type": "string"
        },
        {
         "name": "email",
         "rawType": "object",
         "type": "string"
        },
        {
         "name": "company",
         "rawType": "object",
         "type": "string"
        }
       ],
       "ref": "4869ce1e-8dbd-435f-84b6-3ef9fa68b7d7",
       "rows": [
        [
         "0",
         "Nusrat",
         "Jahan",
         "nusrat.jahan@brac.org",
         "BRAC"
        ],
        [
         "1",
         "Mehedi",
         "Hasan",
         "mehedi.hasan@bkash.com",
         "bKash"
        ],
        [
         "2",
         "Tahmid",
         "Rahman",
         "tahmid.rahman@grameenphone.com",
         "Grameenphone"
        ],
        [
         "3",
         "Farhana",
         "Akter",
         "farhana.akter@robi.com.bd",
         "Robi"
        ],
        [
         "4",
         "Sadia",
         "Chowdhury",
         "sadia.chowdhury@du.ac.bd",
         "University of Dhaka"
        ],
        [
         "5",
         "takwoa",
         "ullah",
         "takowaullah@gmail.com",
         "microsoft"
        ]
       ],
       "shape": {
        "columns": 4,
        "rows": 6
       }
      },
      "text/html": [
       "<div>\n",
       "<style scoped>\n",
       "    .dataframe tbody tr th:only-of-type {\n",
       "        vertical-align: middle;\n",
       "    }\n",
       "\n",
       "    .dataframe tbody tr th {\n",
       "        vertical-align: top;\n",
       "    }\n",
       "\n",
       "    .dataframe thead th {\n",
       "        text-align: right;\n",
       "    }\n",
       "</style>\n",
       "<table border=\"1\" class=\"dataframe\">\n",
       "  <thead>\n",
       "    <tr style=\"text-align: right;\">\n",
       "      <th></th>\n",
       "      <th>first_name</th>\n",
       "      <th>last_name</th>\n",
       "      <th>email</th>\n",
       "      <th>company</th>\n",
       "    </tr>\n",
       "  </thead>\n",
       "  <tbody>\n",
       "    <tr>\n",
       "      <th>0</th>\n",
       "      <td>Nusrat</td>\n",
       "      <td>Jahan</td>\n",
       "      <td>nusrat.jahan@brac.org</td>\n",
       "      <td>BRAC</td>\n",
       "    </tr>\n",
       "    <tr>\n",
       "      <th>1</th>\n",
       "      <td>Mehedi</td>\n",
       "      <td>Hasan</td>\n",
       "      <td>mehedi.hasan@bkash.com</td>\n",
       "      <td>bKash</td>\n",
       "    </tr>\n",
       "    <tr>\n",
       "      <th>2</th>\n",
       "      <td>Tahmid</td>\n",
       "      <td>Rahman</td>\n",
       "      <td>tahmid.rahman@grameenphone.com</td>\n",
       "      <td>Grameenphone</td>\n",
       "    </tr>\n",
       "    <tr>\n",
       "      <th>3</th>\n",
       "      <td>Farhana</td>\n",
       "      <td>Akter</td>\n",
       "      <td>farhana.akter@robi.com.bd</td>\n",
       "      <td>Robi</td>\n",
       "    </tr>\n",
       "    <tr>\n",
       "      <th>4</th>\n",
       "      <td>Sadia</td>\n",
       "      <td>Chowdhury</td>\n",
       "      <td>sadia.chowdhury@du.ac.bd</td>\n",
       "      <td>University of Dhaka</td>\n",
       "    </tr>\n",
       "    <tr>\n",
       "      <th>5</th>\n",
       "      <td>takwoa</td>\n",
       "      <td>ullah</td>\n",
       "      <td>takowaullah@gmail.com</td>\n",
       "      <td>microsoft</td>\n",
       "    </tr>\n",
       "  </tbody>\n",
       "</table>\n",
       "</div>"
      ],
      "text/plain": [
       "  first_name  last_name                           email              company\n",
       "0     Nusrat      Jahan           nusrat.jahan@brac.org                 BRAC\n",
       "1     Mehedi      Hasan          mehedi.hasan@bkash.com                bKash\n",
       "2     Tahmid     Rahman  tahmid.rahman@grameenphone.com         Grameenphone\n",
       "3    Farhana      Akter       farhana.akter@robi.com.bd                 Robi\n",
       "4      Sadia  Chowdhury        sadia.chowdhury@du.ac.bd  University of Dhaka\n",
       "5     takwoa      ullah           takowaullah@gmail.com            microsoft"
      ]
     },
     "execution_count": 5,
     "metadata": {},
     "output_type": "execute_result"
    }
   ],
   "source": [
    "df"
   ]
  },
  {
   "cell_type": "code",
   "execution_count": 6,
   "id": "0393d1e6",
   "metadata": {},
   "outputs": [
    {
     "data": {
      "application/vnd.microsoft.datawrangler.viewer.v0+json": {
       "columns": [
        {
         "name": "index",
         "rawType": "int64",
         "type": "integer"
        },
        {
         "name": "first_name",
         "rawType": "object",
         "type": "string"
        },
        {
         "name": "last_name",
         "rawType": "object",
         "type": "unknown"
        },
        {
         "name": "email",
         "rawType": "object",
         "type": "unknown"
        },
        {
         "name": "company",
         "rawType": "object",
         "type": "unknown"
        }
       ],
       "ref": "0da1f872-7823-41d8-999e-44607816732e",
       "rows": [
        [
         "0",
         "Nusrat",
         "Jahan",
         "nusrat.jahan@brac.org",
         "BRAC"
        ],
        [
         "1",
         "Mehedi",
         "Hasan",
         "mehedi.hasan@bkash.com",
         "bKash"
        ],
        [
         "2",
         "Tahmid",
         "Rahman",
         "tahmid.rahman@grameenphone.com",
         "Grameenphone"
        ],
        [
         "3",
         "Farhana",
         "Akter",
         "farhana.akter@robi.com.bd",
         "Robi"
        ],
        [
         "4",
         "Sadia",
         "Chowdhury",
         "sadia.chowdhury@du.ac.bd",
         "University of Dhaka"
        ],
        [
         "5",
         "takwoa",
         "ullah",
         "takowaullah@gmail.com",
         "microsoft"
        ],
        [
         "6",
         "maahim",
         null,
         null,
         null
        ]
       ],
       "shape": {
        "columns": 4,
        "rows": 7
       }
      },
      "text/html": [
       "<div>\n",
       "<style scoped>\n",
       "    .dataframe tbody tr th:only-of-type {\n",
       "        vertical-align: middle;\n",
       "    }\n",
       "\n",
       "    .dataframe tbody tr th {\n",
       "        vertical-align: top;\n",
       "    }\n",
       "\n",
       "    .dataframe thead th {\n",
       "        text-align: right;\n",
       "    }\n",
       "</style>\n",
       "<table border=\"1\" class=\"dataframe\">\n",
       "  <thead>\n",
       "    <tr style=\"text-align: right;\">\n",
       "      <th></th>\n",
       "      <th>first_name</th>\n",
       "      <th>last_name</th>\n",
       "      <th>email</th>\n",
       "      <th>company</th>\n",
       "    </tr>\n",
       "  </thead>\n",
       "  <tbody>\n",
       "    <tr>\n",
       "      <th>0</th>\n",
       "      <td>Nusrat</td>\n",
       "      <td>Jahan</td>\n",
       "      <td>nusrat.jahan@brac.org</td>\n",
       "      <td>BRAC</td>\n",
       "    </tr>\n",
       "    <tr>\n",
       "      <th>1</th>\n",
       "      <td>Mehedi</td>\n",
       "      <td>Hasan</td>\n",
       "      <td>mehedi.hasan@bkash.com</td>\n",
       "      <td>bKash</td>\n",
       "    </tr>\n",
       "    <tr>\n",
       "      <th>2</th>\n",
       "      <td>Tahmid</td>\n",
       "      <td>Rahman</td>\n",
       "      <td>tahmid.rahman@grameenphone.com</td>\n",
       "      <td>Grameenphone</td>\n",
       "    </tr>\n",
       "    <tr>\n",
       "      <th>3</th>\n",
       "      <td>Farhana</td>\n",
       "      <td>Akter</td>\n",
       "      <td>farhana.akter@robi.com.bd</td>\n",
       "      <td>Robi</td>\n",
       "    </tr>\n",
       "    <tr>\n",
       "      <th>4</th>\n",
       "      <td>Sadia</td>\n",
       "      <td>Chowdhury</td>\n",
       "      <td>sadia.chowdhury@du.ac.bd</td>\n",
       "      <td>University of Dhaka</td>\n",
       "    </tr>\n",
       "    <tr>\n",
       "      <th>5</th>\n",
       "      <td>takwoa</td>\n",
       "      <td>ullah</td>\n",
       "      <td>takowaullah@gmail.com</td>\n",
       "      <td>microsoft</td>\n",
       "    </tr>\n",
       "    <tr>\n",
       "      <th>6</th>\n",
       "      <td>maahim</td>\n",
       "      <td>NaN</td>\n",
       "      <td>NaN</td>\n",
       "      <td>NaN</td>\n",
       "    </tr>\n",
       "  </tbody>\n",
       "</table>\n",
       "</div>"
      ],
      "text/plain": [
       "  first_name  last_name                           email              company\n",
       "0     Nusrat      Jahan           nusrat.jahan@brac.org                 BRAC\n",
       "1     Mehedi      Hasan          mehedi.hasan@bkash.com                bKash\n",
       "2     Tahmid     Rahman  tahmid.rahman@grameenphone.com         Grameenphone\n",
       "3    Farhana      Akter       farhana.akter@robi.com.bd                 Robi\n",
       "4      Sadia  Chowdhury        sadia.chowdhury@du.ac.bd  University of Dhaka\n",
       "5     takwoa      ullah           takowaullah@gmail.com            microsoft\n",
       "6     maahim        NaN                             NaN                  NaN"
      ]
     },
     "execution_count": 6,
     "metadata": {},
     "output_type": "execute_result"
    }
   ],
   "source": [
    "df.loc[len(df),'first_name' ] = \"maahim\"\n",
    "df"
   ]
  },
  {
   "cell_type": "code",
   "execution_count": 7,
   "id": "0e679449",
   "metadata": {},
   "outputs": [
    {
     "data": {
      "application/vnd.microsoft.datawrangler.viewer.v0+json": {
       "columns": [
        {
         "name": "index",
         "rawType": "int64",
         "type": "integer"
        },
        {
         "name": "first_name",
         "rawType": "object",
         "type": "string"
        },
        {
         "name": "last_name",
         "rawType": "object",
         "type": "unknown"
        },
        {
         "name": "email",
         "rawType": "object",
         "type": "unknown"
        },
        {
         "name": "company",
         "rawType": "object",
         "type": "unknown"
        }
       ],
       "ref": "3de3c193-2005-434f-9d1d-98f60cb71ac5",
       "rows": [
        [
         "0",
         "Nusrat",
         "Jahan",
         "nusrat.jahan@brac.org",
         "BRAC"
        ],
        [
         "1",
         "Mehedi",
         "Hasan",
         "mehedi.hasan@bkash.com",
         "bKash"
        ],
        [
         "2",
         "Tahmid",
         "Rahman",
         "tahmid.rahman@grameenphone.com",
         "Grameenphone"
        ],
        [
         "3",
         "Farhana",
         "Akter",
         "farhana.akter@robi.com.bd",
         "Robi"
        ],
        [
         "4",
         "Sadia",
         "Chowdhury",
         "sadia.chowdhury@du.ac.bd",
         "University of Dhaka"
        ],
        [
         "5",
         "takwoa",
         "ullah",
         "takowaullah@gmail.com",
         "microsoft"
        ],
        [
         "6",
         "maahim",
         null,
         null,
         null
        ]
       ],
       "shape": {
        "columns": 4,
        "rows": 7
       }
      },
      "text/html": [
       "<div>\n",
       "<style scoped>\n",
       "    .dataframe tbody tr th:only-of-type {\n",
       "        vertical-align: middle;\n",
       "    }\n",
       "\n",
       "    .dataframe tbody tr th {\n",
       "        vertical-align: top;\n",
       "    }\n",
       "\n",
       "    .dataframe thead th {\n",
       "        text-align: right;\n",
       "    }\n",
       "</style>\n",
       "<table border=\"1\" class=\"dataframe\">\n",
       "  <thead>\n",
       "    <tr style=\"text-align: right;\">\n",
       "      <th></th>\n",
       "      <th>first_name</th>\n",
       "      <th>last_name</th>\n",
       "      <th>email</th>\n",
       "      <th>company</th>\n",
       "    </tr>\n",
       "  </thead>\n",
       "  <tbody>\n",
       "    <tr>\n",
       "      <th>0</th>\n",
       "      <td>Nusrat</td>\n",
       "      <td>Jahan</td>\n",
       "      <td>nusrat.jahan@brac.org</td>\n",
       "      <td>BRAC</td>\n",
       "    </tr>\n",
       "    <tr>\n",
       "      <th>1</th>\n",
       "      <td>Mehedi</td>\n",
       "      <td>Hasan</td>\n",
       "      <td>mehedi.hasan@bkash.com</td>\n",
       "      <td>bKash</td>\n",
       "    </tr>\n",
       "    <tr>\n",
       "      <th>2</th>\n",
       "      <td>Tahmid</td>\n",
       "      <td>Rahman</td>\n",
       "      <td>tahmid.rahman@grameenphone.com</td>\n",
       "      <td>Grameenphone</td>\n",
       "    </tr>\n",
       "    <tr>\n",
       "      <th>3</th>\n",
       "      <td>Farhana</td>\n",
       "      <td>Akter</td>\n",
       "      <td>farhana.akter@robi.com.bd</td>\n",
       "      <td>Robi</td>\n",
       "    </tr>\n",
       "    <tr>\n",
       "      <th>4</th>\n",
       "      <td>Sadia</td>\n",
       "      <td>Chowdhury</td>\n",
       "      <td>sadia.chowdhury@du.ac.bd</td>\n",
       "      <td>University of Dhaka</td>\n",
       "    </tr>\n",
       "    <tr>\n",
       "      <th>5</th>\n",
       "      <td>takwoa</td>\n",
       "      <td>ullah</td>\n",
       "      <td>takowaullah@gmail.com</td>\n",
       "      <td>microsoft</td>\n",
       "    </tr>\n",
       "    <tr>\n",
       "      <th>6</th>\n",
       "      <td>maahim</td>\n",
       "      <td>NaN</td>\n",
       "      <td>NaN</td>\n",
       "      <td>NaN</td>\n",
       "    </tr>\n",
       "  </tbody>\n",
       "</table>\n",
       "</div>"
      ],
      "text/plain": [
       "  first_name  last_name                           email              company\n",
       "0     Nusrat      Jahan           nusrat.jahan@brac.org                 BRAC\n",
       "1     Mehedi      Hasan          mehedi.hasan@bkash.com                bKash\n",
       "2     Tahmid     Rahman  tahmid.rahman@grameenphone.com         Grameenphone\n",
       "3    Farhana      Akter       farhana.akter@robi.com.bd                 Robi\n",
       "4      Sadia  Chowdhury        sadia.chowdhury@du.ac.bd  University of Dhaka\n",
       "5     takwoa      ullah           takowaullah@gmail.com            microsoft\n",
       "6     maahim        NaN                             NaN                  NaN"
      ]
     },
     "execution_count": 7,
     "metadata": {},
     "output_type": "execute_result"
    }
   ],
   "source": [
    "df"
   ]
  },
  {
   "cell_type": "code",
   "execution_count": 8,
   "id": "031edd21",
   "metadata": {},
   "outputs": [
    {
     "data": {
      "application/vnd.microsoft.datawrangler.viewer.v0+json": {
       "columns": [
        {
         "name": "index",
         "rawType": "int64",
         "type": "integer"
        },
        {
         "name": "first_name",
         "rawType": "object",
         "type": "string"
        },
        {
         "name": "last_name",
         "rawType": "object",
         "type": "unknown"
        },
        {
         "name": "email",
         "rawType": "object",
         "type": "unknown"
        },
        {
         "name": "company",
         "rawType": "object",
         "type": "unknown"
        }
       ],
       "ref": "119fe75d-3f17-447c-b3dd-ef1cab8ec223",
       "rows": [
        [
         "0",
         "Nusrat",
         "Jahan",
         "nusrat.jahan@brac.org",
         "BRAC"
        ],
        [
         "1",
         "Mehedi",
         "Hasan",
         "mehedi.hasan@bkash.com",
         "bKash"
        ],
        [
         "2",
         "Tahmid",
         "Rahman",
         "tahmid.rahman@grameenphone.com",
         "Grameenphone"
        ],
        [
         "3",
         "Farhana",
         "Akter",
         "farhana.akter@robi.com.bd",
         "Robi"
        ],
        [
         "4",
         "Sadia",
         "Chowdhury",
         "sadia.chowdhury@du.ac.bd",
         "University of Dhaka"
        ],
        [
         "5",
         "takwoa",
         "ullah",
         "takowaullah@gmail.com",
         "microsoft"
        ],
        [
         "6",
         "maahim",
         null,
         null,
         null
        ]
       ],
       "shape": {
        "columns": 4,
        "rows": 7
       }
      },
      "text/html": [
       "<div>\n",
       "<style scoped>\n",
       "    .dataframe tbody tr th:only-of-type {\n",
       "        vertical-align: middle;\n",
       "    }\n",
       "\n",
       "    .dataframe tbody tr th {\n",
       "        vertical-align: top;\n",
       "    }\n",
       "\n",
       "    .dataframe thead th {\n",
       "        text-align: right;\n",
       "    }\n",
       "</style>\n",
       "<table border=\"1\" class=\"dataframe\">\n",
       "  <thead>\n",
       "    <tr style=\"text-align: right;\">\n",
       "      <th></th>\n",
       "      <th>first_name</th>\n",
       "      <th>last_name</th>\n",
       "      <th>email</th>\n",
       "      <th>company</th>\n",
       "    </tr>\n",
       "  </thead>\n",
       "  <tbody>\n",
       "    <tr>\n",
       "      <th>0</th>\n",
       "      <td>Nusrat</td>\n",
       "      <td>Jahan</td>\n",
       "      <td>nusrat.jahan@brac.org</td>\n",
       "      <td>BRAC</td>\n",
       "    </tr>\n",
       "    <tr>\n",
       "      <th>1</th>\n",
       "      <td>Mehedi</td>\n",
       "      <td>Hasan</td>\n",
       "      <td>mehedi.hasan@bkash.com</td>\n",
       "      <td>bKash</td>\n",
       "    </tr>\n",
       "    <tr>\n",
       "      <th>2</th>\n",
       "      <td>Tahmid</td>\n",
       "      <td>Rahman</td>\n",
       "      <td>tahmid.rahman@grameenphone.com</td>\n",
       "      <td>Grameenphone</td>\n",
       "    </tr>\n",
       "    <tr>\n",
       "      <th>3</th>\n",
       "      <td>Farhana</td>\n",
       "      <td>Akter</td>\n",
       "      <td>farhana.akter@robi.com.bd</td>\n",
       "      <td>Robi</td>\n",
       "    </tr>\n",
       "    <tr>\n",
       "      <th>4</th>\n",
       "      <td>Sadia</td>\n",
       "      <td>Chowdhury</td>\n",
       "      <td>sadia.chowdhury@du.ac.bd</td>\n",
       "      <td>University of Dhaka</td>\n",
       "    </tr>\n",
       "    <tr>\n",
       "      <th>5</th>\n",
       "      <td>takwoa</td>\n",
       "      <td>ullah</td>\n",
       "      <td>takowaullah@gmail.com</td>\n",
       "      <td>microsoft</td>\n",
       "    </tr>\n",
       "    <tr>\n",
       "      <th>6</th>\n",
       "      <td>maahim</td>\n",
       "      <td>NaN</td>\n",
       "      <td>NaN</td>\n",
       "      <td>NaN</td>\n",
       "    </tr>\n",
       "  </tbody>\n",
       "</table>\n",
       "</div>"
      ],
      "text/plain": [
       "  first_name  last_name                           email              company\n",
       "0     Nusrat      Jahan           nusrat.jahan@brac.org                 BRAC\n",
       "1     Mehedi      Hasan          mehedi.hasan@bkash.com                bKash\n",
       "2     Tahmid     Rahman  tahmid.rahman@grameenphone.com         Grameenphone\n",
       "3    Farhana      Akter       farhana.akter@robi.com.bd                 Robi\n",
       "4      Sadia  Chowdhury        sadia.chowdhury@du.ac.bd  University of Dhaka\n",
       "5     takwoa      ullah           takowaullah@gmail.com            microsoft\n",
       "6     maahim        NaN                             NaN                  NaN"
      ]
     },
     "execution_count": 8,
     "metadata": {},
     "output_type": "execute_result"
    }
   ],
   "source": [
    "df"
   ]
  },
  {
   "cell_type": "code",
   "execution_count": 9,
   "id": "b400dc32",
   "metadata": {},
   "outputs": [
    {
     "data": {
      "application/vnd.microsoft.datawrangler.viewer.v0+json": {
       "columns": [
        {
         "name": "index",
         "rawType": "int64",
         "type": "integer"
        },
        {
         "name": "first_name",
         "rawType": "object",
         "type": "string"
        },
        {
         "name": "last_name",
         "rawType": "object",
         "type": "string"
        }
       ],
       "ref": "0934ec94-f898-4a21-833a-4f734c7297f8",
       "rows": [
        [
         "0",
         "karim",
         "mia"
        ]
       ],
       "shape": {
        "columns": 2,
        "rows": 1
       }
      },
      "text/html": [
       "<div>\n",
       "<style scoped>\n",
       "    .dataframe tbody tr th:only-of-type {\n",
       "        vertical-align: middle;\n",
       "    }\n",
       "\n",
       "    .dataframe tbody tr th {\n",
       "        vertical-align: top;\n",
       "    }\n",
       "\n",
       "    .dataframe thead th {\n",
       "        text-align: right;\n",
       "    }\n",
       "</style>\n",
       "<table border=\"1\" class=\"dataframe\">\n",
       "  <thead>\n",
       "    <tr style=\"text-align: right;\">\n",
       "      <th></th>\n",
       "      <th>first_name</th>\n",
       "      <th>last_name</th>\n",
       "    </tr>\n",
       "  </thead>\n",
       "  <tbody>\n",
       "    <tr>\n",
       "      <th>0</th>\n",
       "      <td>karim</td>\n",
       "      <td>mia</td>\n",
       "    </tr>\n",
       "  </tbody>\n",
       "</table>\n",
       "</div>"
      ],
      "text/plain": [
       "  first_name last_name\n",
       "0      karim       mia"
      ]
     },
     "execution_count": 9,
     "metadata": {},
     "output_type": "execute_result"
    }
   ],
   "source": [
    "new_info = {\"first_name\" : \"karim\", \"last_name\": \"mia\"}\n",
    "new_recode = pd.DataFrame([new_info])\n",
    "new_recode"
   ]
  },
  {
   "cell_type": "code",
   "execution_count": 10,
   "id": "df6de1b0",
   "metadata": {},
   "outputs": [
    {
     "data": {
      "application/vnd.microsoft.datawrangler.viewer.v0+json": {
       "columns": [
        {
         "name": "index",
         "rawType": "int64",
         "type": "integer"
        },
        {
         "name": "first_name",
         "rawType": "object",
         "type": "string"
        },
        {
         "name": "last_name",
         "rawType": "object",
         "type": "unknown"
        },
        {
         "name": "email",
         "rawType": "object",
         "type": "unknown"
        },
        {
         "name": "company",
         "rawType": "object",
         "type": "unknown"
        }
       ],
       "ref": "0717ea26-8547-4f3b-b9a1-100c1be63234",
       "rows": [
        [
         "0",
         "Nusrat",
         "Jahan",
         "nusrat.jahan@brac.org",
         "BRAC"
        ],
        [
         "1",
         "Mehedi",
         "Hasan",
         "mehedi.hasan@bkash.com",
         "bKash"
        ],
        [
         "2",
         "Tahmid",
         "Rahman",
         "tahmid.rahman@grameenphone.com",
         "Grameenphone"
        ],
        [
         "3",
         "Farhana",
         "Akter",
         "farhana.akter@robi.com.bd",
         "Robi"
        ],
        [
         "4",
         "Sadia",
         "Chowdhury",
         "sadia.chowdhury@du.ac.bd",
         "University of Dhaka"
        ],
        [
         "5",
         "takwoa",
         "ullah",
         "takowaullah@gmail.com",
         "microsoft"
        ],
        [
         "6",
         "maahim",
         null,
         null,
         null
        ],
        [
         "0",
         "karim",
         "mia",
         null,
         null
        ]
       ],
       "shape": {
        "columns": 4,
        "rows": 8
       }
      },
      "text/html": [
       "<div>\n",
       "<style scoped>\n",
       "    .dataframe tbody tr th:only-of-type {\n",
       "        vertical-align: middle;\n",
       "    }\n",
       "\n",
       "    .dataframe tbody tr th {\n",
       "        vertical-align: top;\n",
       "    }\n",
       "\n",
       "    .dataframe thead th {\n",
       "        text-align: right;\n",
       "    }\n",
       "</style>\n",
       "<table border=\"1\" class=\"dataframe\">\n",
       "  <thead>\n",
       "    <tr style=\"text-align: right;\">\n",
       "      <th></th>\n",
       "      <th>first_name</th>\n",
       "      <th>last_name</th>\n",
       "      <th>email</th>\n",
       "      <th>company</th>\n",
       "    </tr>\n",
       "  </thead>\n",
       "  <tbody>\n",
       "    <tr>\n",
       "      <th>0</th>\n",
       "      <td>Nusrat</td>\n",
       "      <td>Jahan</td>\n",
       "      <td>nusrat.jahan@brac.org</td>\n",
       "      <td>BRAC</td>\n",
       "    </tr>\n",
       "    <tr>\n",
       "      <th>1</th>\n",
       "      <td>Mehedi</td>\n",
       "      <td>Hasan</td>\n",
       "      <td>mehedi.hasan@bkash.com</td>\n",
       "      <td>bKash</td>\n",
       "    </tr>\n",
       "    <tr>\n",
       "      <th>2</th>\n",
       "      <td>Tahmid</td>\n",
       "      <td>Rahman</td>\n",
       "      <td>tahmid.rahman@grameenphone.com</td>\n",
       "      <td>Grameenphone</td>\n",
       "    </tr>\n",
       "    <tr>\n",
       "      <th>3</th>\n",
       "      <td>Farhana</td>\n",
       "      <td>Akter</td>\n",
       "      <td>farhana.akter@robi.com.bd</td>\n",
       "      <td>Robi</td>\n",
       "    </tr>\n",
       "    <tr>\n",
       "      <th>4</th>\n",
       "      <td>Sadia</td>\n",
       "      <td>Chowdhury</td>\n",
       "      <td>sadia.chowdhury@du.ac.bd</td>\n",
       "      <td>University of Dhaka</td>\n",
       "    </tr>\n",
       "    <tr>\n",
       "      <th>5</th>\n",
       "      <td>takwoa</td>\n",
       "      <td>ullah</td>\n",
       "      <td>takowaullah@gmail.com</td>\n",
       "      <td>microsoft</td>\n",
       "    </tr>\n",
       "    <tr>\n",
       "      <th>6</th>\n",
       "      <td>maahim</td>\n",
       "      <td>NaN</td>\n",
       "      <td>NaN</td>\n",
       "      <td>NaN</td>\n",
       "    </tr>\n",
       "    <tr>\n",
       "      <th>0</th>\n",
       "      <td>karim</td>\n",
       "      <td>mia</td>\n",
       "      <td>NaN</td>\n",
       "      <td>NaN</td>\n",
       "    </tr>\n",
       "  </tbody>\n",
       "</table>\n",
       "</div>"
      ],
      "text/plain": [
       "  first_name  last_name                           email              company\n",
       "0     Nusrat      Jahan           nusrat.jahan@brac.org                 BRAC\n",
       "1     Mehedi      Hasan          mehedi.hasan@bkash.com                bKash\n",
       "2     Tahmid     Rahman  tahmid.rahman@grameenphone.com         Grameenphone\n",
       "3    Farhana      Akter       farhana.akter@robi.com.bd                 Robi\n",
       "4      Sadia  Chowdhury        sadia.chowdhury@du.ac.bd  University of Dhaka\n",
       "5     takwoa      ullah           takowaullah@gmail.com            microsoft\n",
       "6     maahim        NaN                             NaN                  NaN\n",
       "0      karim        mia                             NaN                  NaN"
      ]
     },
     "execution_count": 10,
     "metadata": {},
     "output_type": "execute_result"
    }
   ],
   "source": [
    "df = pd.concat([df,new_recode])\n",
    "df"
   ]
  },
  {
   "cell_type": "code",
   "execution_count": 11,
   "id": "3d28ea6b",
   "metadata": {},
   "outputs": [
    {
     "data": {
      "application/vnd.microsoft.datawrangler.viewer.v0+json": {
       "columns": [
        {
         "name": "index",
         "rawType": "int64",
         "type": "integer"
        },
        {
         "name": "first_name",
         "rawType": "object",
         "type": "string"
        },
        {
         "name": "last_name",
         "rawType": "object",
         "type": "string"
        },
        {
         "name": "email",
         "rawType": "object",
         "type": "unknown"
        },
        {
         "name": "company",
         "rawType": "object",
         "type": "unknown"
        }
       ],
       "ref": "e818f241-fe98-49fb-8b47-d99ad7417797",
       "rows": [
        [
         "0",
         "Nusrat",
         "Jahan",
         "nusrat.jahan@brac.org",
         "BRAC"
        ],
        [
         "1",
         "Mehedi",
         "Hasan",
         "mehedi.hasan@bkash.com",
         "bKash"
        ],
        [
         "2",
         "Tahmid",
         "Rahman",
         "tahmid.rahman@grameenphone.com",
         "Grameenphone"
        ],
        [
         "3",
         "Farhana",
         "Akter",
         "farhana.akter@robi.com.bd",
         "Robi"
        ],
        [
         "4",
         "Sadia",
         "Chowdhury",
         "sadia.chowdhury@du.ac.bd",
         "University of Dhaka"
        ],
        [
         "5",
         "takwoa",
         "ullah",
         "takowaullah@gmail.com",
         "microsoft"
        ],
        [
         "0",
         "karim",
         "mia",
         null,
         null
        ]
       ],
       "shape": {
        "columns": 4,
        "rows": 7
       }
      },
      "text/html": [
       "<div>\n",
       "<style scoped>\n",
       "    .dataframe tbody tr th:only-of-type {\n",
       "        vertical-align: middle;\n",
       "    }\n",
       "\n",
       "    .dataframe tbody tr th {\n",
       "        vertical-align: top;\n",
       "    }\n",
       "\n",
       "    .dataframe thead th {\n",
       "        text-align: right;\n",
       "    }\n",
       "</style>\n",
       "<table border=\"1\" class=\"dataframe\">\n",
       "  <thead>\n",
       "    <tr style=\"text-align: right;\">\n",
       "      <th></th>\n",
       "      <th>first_name</th>\n",
       "      <th>last_name</th>\n",
       "      <th>email</th>\n",
       "      <th>company</th>\n",
       "    </tr>\n",
       "  </thead>\n",
       "  <tbody>\n",
       "    <tr>\n",
       "      <th>0</th>\n",
       "      <td>Nusrat</td>\n",
       "      <td>Jahan</td>\n",
       "      <td>nusrat.jahan@brac.org</td>\n",
       "      <td>BRAC</td>\n",
       "    </tr>\n",
       "    <tr>\n",
       "      <th>1</th>\n",
       "      <td>Mehedi</td>\n",
       "      <td>Hasan</td>\n",
       "      <td>mehedi.hasan@bkash.com</td>\n",
       "      <td>bKash</td>\n",
       "    </tr>\n",
       "    <tr>\n",
       "      <th>2</th>\n",
       "      <td>Tahmid</td>\n",
       "      <td>Rahman</td>\n",
       "      <td>tahmid.rahman@grameenphone.com</td>\n",
       "      <td>Grameenphone</td>\n",
       "    </tr>\n",
       "    <tr>\n",
       "      <th>3</th>\n",
       "      <td>Farhana</td>\n",
       "      <td>Akter</td>\n",
       "      <td>farhana.akter@robi.com.bd</td>\n",
       "      <td>Robi</td>\n",
       "    </tr>\n",
       "    <tr>\n",
       "      <th>4</th>\n",
       "      <td>Sadia</td>\n",
       "      <td>Chowdhury</td>\n",
       "      <td>sadia.chowdhury@du.ac.bd</td>\n",
       "      <td>University of Dhaka</td>\n",
       "    </tr>\n",
       "    <tr>\n",
       "      <th>5</th>\n",
       "      <td>takwoa</td>\n",
       "      <td>ullah</td>\n",
       "      <td>takowaullah@gmail.com</td>\n",
       "      <td>microsoft</td>\n",
       "    </tr>\n",
       "    <tr>\n",
       "      <th>0</th>\n",
       "      <td>karim</td>\n",
       "      <td>mia</td>\n",
       "      <td>NaN</td>\n",
       "      <td>NaN</td>\n",
       "    </tr>\n",
       "  </tbody>\n",
       "</table>\n",
       "</div>"
      ],
      "text/plain": [
       "  first_name  last_name                           email              company\n",
       "0     Nusrat      Jahan           nusrat.jahan@brac.org                 BRAC\n",
       "1     Mehedi      Hasan          mehedi.hasan@bkash.com                bKash\n",
       "2     Tahmid     Rahman  tahmid.rahman@grameenphone.com         Grameenphone\n",
       "3    Farhana      Akter       farhana.akter@robi.com.bd                 Robi\n",
       "4      Sadia  Chowdhury        sadia.chowdhury@du.ac.bd  University of Dhaka\n",
       "5     takwoa      ullah           takowaullah@gmail.com            microsoft\n",
       "0      karim        mia                             NaN                  NaN"
      ]
     },
     "execution_count": 11,
     "metadata": {},
     "output_type": "execute_result"
    }
   ],
   "source": [
    "df.drop(6, inplace= True)\n",
    "df\n"
   ]
  },
  {
   "cell_type": "code",
   "execution_count": 12,
   "id": "2afa794d",
   "metadata": {},
   "outputs": [
    {
     "data": {
      "application/vnd.microsoft.datawrangler.viewer.v0+json": {
       "columns": [
        {
         "name": "index",
         "rawType": "int64",
         "type": "integer"
        },
        {
         "name": "first_name",
         "rawType": "object",
         "type": "string"
        },
        {
         "name": "last_name",
         "rawType": "object",
         "type": "string"
        },
        {
         "name": "email",
         "rawType": "object",
         "type": "unknown"
        },
        {
         "name": "company",
         "rawType": "object",
         "type": "unknown"
        }
       ],
       "ref": "e0384eae-43e0-44fb-bab4-0c76b4ac2e27",
       "rows": [
        [
         "0",
         "Nusrat",
         "Jahan",
         "nusrat.jahan@brac.org",
         "BRAC"
        ],
        [
         "1",
         "Mehedi",
         "Hasan",
         "mehedi.hasan@bkash.com",
         "bKash"
        ],
        [
         "2",
         "Tahmid",
         "Rahman",
         "tahmid.rahman@grameenphone.com",
         "Grameenphone"
        ],
        [
         "3",
         "Farhana",
         "Akter",
         "farhana.akter@robi.com.bd",
         "Robi"
        ],
        [
         "4",
         "Sadia",
         "Chowdhury",
         "sadia.chowdhury@du.ac.bd",
         "University of Dhaka"
        ],
        [
         "5",
         "takwoa",
         "ullah",
         "takowaullah@gmail.com",
         "microsoft"
        ],
        [
         "6",
         "karim",
         "mia",
         null,
         null
        ]
       ],
       "shape": {
        "columns": 4,
        "rows": 7
       }
      },
      "text/html": [
       "<div>\n",
       "<style scoped>\n",
       "    .dataframe tbody tr th:only-of-type {\n",
       "        vertical-align: middle;\n",
       "    }\n",
       "\n",
       "    .dataframe tbody tr th {\n",
       "        vertical-align: top;\n",
       "    }\n",
       "\n",
       "    .dataframe thead th {\n",
       "        text-align: right;\n",
       "    }\n",
       "</style>\n",
       "<table border=\"1\" class=\"dataframe\">\n",
       "  <thead>\n",
       "    <tr style=\"text-align: right;\">\n",
       "      <th></th>\n",
       "      <th>first_name</th>\n",
       "      <th>last_name</th>\n",
       "      <th>email</th>\n",
       "      <th>company</th>\n",
       "    </tr>\n",
       "  </thead>\n",
       "  <tbody>\n",
       "    <tr>\n",
       "      <th>0</th>\n",
       "      <td>Nusrat</td>\n",
       "      <td>Jahan</td>\n",
       "      <td>nusrat.jahan@brac.org</td>\n",
       "      <td>BRAC</td>\n",
       "    </tr>\n",
       "    <tr>\n",
       "      <th>1</th>\n",
       "      <td>Mehedi</td>\n",
       "      <td>Hasan</td>\n",
       "      <td>mehedi.hasan@bkash.com</td>\n",
       "      <td>bKash</td>\n",
       "    </tr>\n",
       "    <tr>\n",
       "      <th>2</th>\n",
       "      <td>Tahmid</td>\n",
       "      <td>Rahman</td>\n",
       "      <td>tahmid.rahman@grameenphone.com</td>\n",
       "      <td>Grameenphone</td>\n",
       "    </tr>\n",
       "    <tr>\n",
       "      <th>3</th>\n",
       "      <td>Farhana</td>\n",
       "      <td>Akter</td>\n",
       "      <td>farhana.akter@robi.com.bd</td>\n",
       "      <td>Robi</td>\n",
       "    </tr>\n",
       "    <tr>\n",
       "      <th>4</th>\n",
       "      <td>Sadia</td>\n",
       "      <td>Chowdhury</td>\n",
       "      <td>sadia.chowdhury@du.ac.bd</td>\n",
       "      <td>University of Dhaka</td>\n",
       "    </tr>\n",
       "    <tr>\n",
       "      <th>5</th>\n",
       "      <td>takwoa</td>\n",
       "      <td>ullah</td>\n",
       "      <td>takowaullah@gmail.com</td>\n",
       "      <td>microsoft</td>\n",
       "    </tr>\n",
       "    <tr>\n",
       "      <th>6</th>\n",
       "      <td>karim</td>\n",
       "      <td>mia</td>\n",
       "      <td>NaN</td>\n",
       "      <td>NaN</td>\n",
       "    </tr>\n",
       "  </tbody>\n",
       "</table>\n",
       "</div>"
      ],
      "text/plain": [
       "  first_name  last_name                           email              company\n",
       "0     Nusrat      Jahan           nusrat.jahan@brac.org                 BRAC\n",
       "1     Mehedi      Hasan          mehedi.hasan@bkash.com                bKash\n",
       "2     Tahmid     Rahman  tahmid.rahman@grameenphone.com         Grameenphone\n",
       "3    Farhana      Akter       farhana.akter@robi.com.bd                 Robi\n",
       "4      Sadia  Chowdhury        sadia.chowdhury@du.ac.bd  University of Dhaka\n",
       "5     takwoa      ullah           takowaullah@gmail.com            microsoft\n",
       "6      karim        mia                             NaN                  NaN"
      ]
     },
     "execution_count": 12,
     "metadata": {},
     "output_type": "execute_result"
    }
   ],
   "source": [
    "df.reset_index(inplace=True, drop=True)\n",
    "df"
   ]
  },
  {
   "cell_type": "code",
   "execution_count": 13,
   "id": "2bc277ff",
   "metadata": {},
   "outputs": [
    {
     "data": {
      "application/vnd.microsoft.datawrangler.viewer.v0+json": {
       "columns": [
        {
         "name": "index",
         "rawType": "int64",
         "type": "integer"
        },
        {
         "name": "first_name",
         "rawType": "object",
         "type": "string"
        },
        {
         "name": "last_name",
         "rawType": "object",
         "type": "string"
        },
        {
         "name": "email",
         "rawType": "object",
         "type": "unknown"
        },
        {
         "name": "company",
         "rawType": "object",
         "type": "unknown"
        },
        {
         "name": "gender",
         "rawType": "object",
         "type": "string"
        }
       ],
       "ref": "9ea171aa-cfec-4b40-b3df-9d01a6af4052",
       "rows": [
        [
         "0",
         "Nusrat",
         "Jahan",
         "nusrat.jahan@brac.org",
         "BRAC",
         "female"
        ],
        [
         "1",
         "Mehedi",
         "Hasan",
         "mehedi.hasan@bkash.com",
         "bKash",
         "male"
        ],
        [
         "2",
         "Tahmid",
         "Rahman",
         "tahmid.rahman@grameenphone.com",
         "Grameenphone",
         "male"
        ],
        [
         "3",
         "Farhana",
         "Akter",
         "farhana.akter@robi.com.bd",
         "Robi",
         "female"
        ],
        [
         "4",
         "Sadia",
         "Chowdhury",
         "sadia.chowdhury@du.ac.bd",
         "University of Dhaka",
         "female"
        ],
        [
         "5",
         "takwoa",
         "ullah",
         "takowaullah@gmail.com",
         "microsoft",
         "male"
        ],
        [
         "6",
         "karim",
         "mia",
         null,
         null,
         "male"
        ]
       ],
       "shape": {
        "columns": 5,
        "rows": 7
       }
      },
      "text/html": [
       "<div>\n",
       "<style scoped>\n",
       "    .dataframe tbody tr th:only-of-type {\n",
       "        vertical-align: middle;\n",
       "    }\n",
       "\n",
       "    .dataframe tbody tr th {\n",
       "        vertical-align: top;\n",
       "    }\n",
       "\n",
       "    .dataframe thead th {\n",
       "        text-align: right;\n",
       "    }\n",
       "</style>\n",
       "<table border=\"1\" class=\"dataframe\">\n",
       "  <thead>\n",
       "    <tr style=\"text-align: right;\">\n",
       "      <th></th>\n",
       "      <th>first_name</th>\n",
       "      <th>last_name</th>\n",
       "      <th>email</th>\n",
       "      <th>company</th>\n",
       "      <th>gender</th>\n",
       "    </tr>\n",
       "  </thead>\n",
       "  <tbody>\n",
       "    <tr>\n",
       "      <th>0</th>\n",
       "      <td>Nusrat</td>\n",
       "      <td>Jahan</td>\n",
       "      <td>nusrat.jahan@brac.org</td>\n",
       "      <td>BRAC</td>\n",
       "      <td>female</td>\n",
       "    </tr>\n",
       "    <tr>\n",
       "      <th>1</th>\n",
       "      <td>Mehedi</td>\n",
       "      <td>Hasan</td>\n",
       "      <td>mehedi.hasan@bkash.com</td>\n",
       "      <td>bKash</td>\n",
       "      <td>male</td>\n",
       "    </tr>\n",
       "    <tr>\n",
       "      <th>2</th>\n",
       "      <td>Tahmid</td>\n",
       "      <td>Rahman</td>\n",
       "      <td>tahmid.rahman@grameenphone.com</td>\n",
       "      <td>Grameenphone</td>\n",
       "      <td>male</td>\n",
       "    </tr>\n",
       "    <tr>\n",
       "      <th>3</th>\n",
       "      <td>Farhana</td>\n",
       "      <td>Akter</td>\n",
       "      <td>farhana.akter@robi.com.bd</td>\n",
       "      <td>Robi</td>\n",
       "      <td>female</td>\n",
       "    </tr>\n",
       "    <tr>\n",
       "      <th>4</th>\n",
       "      <td>Sadia</td>\n",
       "      <td>Chowdhury</td>\n",
       "      <td>sadia.chowdhury@du.ac.bd</td>\n",
       "      <td>University of Dhaka</td>\n",
       "      <td>female</td>\n",
       "    </tr>\n",
       "    <tr>\n",
       "      <th>5</th>\n",
       "      <td>takwoa</td>\n",
       "      <td>ullah</td>\n",
       "      <td>takowaullah@gmail.com</td>\n",
       "      <td>microsoft</td>\n",
       "      <td>male</td>\n",
       "    </tr>\n",
       "    <tr>\n",
       "      <th>6</th>\n",
       "      <td>karim</td>\n",
       "      <td>mia</td>\n",
       "      <td>NaN</td>\n",
       "      <td>NaN</td>\n",
       "      <td>male</td>\n",
       "    </tr>\n",
       "  </tbody>\n",
       "</table>\n",
       "</div>"
      ],
      "text/plain": [
       "  first_name  last_name                           email              company  \\\n",
       "0     Nusrat      Jahan           nusrat.jahan@brac.org                 BRAC   \n",
       "1     Mehedi      Hasan          mehedi.hasan@bkash.com                bKash   \n",
       "2     Tahmid     Rahman  tahmid.rahman@grameenphone.com         Grameenphone   \n",
       "3    Farhana      Akter       farhana.akter@robi.com.bd                 Robi   \n",
       "4      Sadia  Chowdhury        sadia.chowdhury@du.ac.bd  University of Dhaka   \n",
       "5     takwoa      ullah           takowaullah@gmail.com            microsoft   \n",
       "6      karim        mia                             NaN                  NaN   \n",
       "\n",
       "   gender  \n",
       "0  female  \n",
       "1    male  \n",
       "2    male  \n",
       "3  female  \n",
       "4  female  \n",
       "5    male  \n",
       "6    male  "
      ]
     },
     "execution_count": 13,
     "metadata": {},
     "output_type": "execute_result"
    }
   ],
   "source": [
    "df['gender'] = ['female', 'male','male','female','female','male','male' ]\n",
    "df"
   ]
  },
  {
   "cell_type": "code",
   "execution_count": 14,
   "id": "810e8b75",
   "metadata": {},
   "outputs": [
    {
     "data": {
      "application/vnd.microsoft.datawrangler.viewer.v0+json": {
       "columns": [
        {
         "name": "index",
         "rawType": "int64",
         "type": "integer"
        },
        {
         "name": "first_name",
         "rawType": "object",
         "type": "string"
        },
        {
         "name": "last_name",
         "rawType": "object",
         "type": "string"
        },
        {
         "name": "email",
         "rawType": "object",
         "type": "unknown"
        },
        {
         "name": "company",
         "rawType": "object",
         "type": "unknown"
        },
        {
         "name": "gender",
         "rawType": "object",
         "type": "string"
        },
        {
         "name": "full_name",
         "rawType": "object",
         "type": "string"
        }
       ],
       "ref": "29002714-f27d-46f7-979a-d0193344e50a",
       "rows": [
        [
         "0",
         "Nusrat",
         "Jahan",
         "nusrat.jahan@brac.org",
         "BRAC",
         "female",
         "Nusrat Jahan"
        ],
        [
         "1",
         "Mehedi",
         "Hasan",
         "mehedi.hasan@bkash.com",
         "bKash",
         "male",
         "Mehedi Hasan"
        ],
        [
         "2",
         "Tahmid",
         "Rahman",
         "tahmid.rahman@grameenphone.com",
         "Grameenphone",
         "male",
         "Tahmid Rahman"
        ],
        [
         "3",
         "Farhana",
         "Akter",
         "farhana.akter@robi.com.bd",
         "Robi",
         "female",
         "Farhana Akter"
        ],
        [
         "4",
         "Sadia",
         "Chowdhury",
         "sadia.chowdhury@du.ac.bd",
         "University of Dhaka",
         "female",
         "Sadia Chowdhury"
        ],
        [
         "5",
         "takwoa",
         "ullah",
         "takowaullah@gmail.com",
         "microsoft",
         "male",
         "takwoa ullah"
        ],
        [
         "6",
         "karim",
         "mia",
         null,
         null,
         "male",
         "karim mia"
        ]
       ],
       "shape": {
        "columns": 6,
        "rows": 7
       }
      },
      "text/html": [
       "<div>\n",
       "<style scoped>\n",
       "    .dataframe tbody tr th:only-of-type {\n",
       "        vertical-align: middle;\n",
       "    }\n",
       "\n",
       "    .dataframe tbody tr th {\n",
       "        vertical-align: top;\n",
       "    }\n",
       "\n",
       "    .dataframe thead th {\n",
       "        text-align: right;\n",
       "    }\n",
       "</style>\n",
       "<table border=\"1\" class=\"dataframe\">\n",
       "  <thead>\n",
       "    <tr style=\"text-align: right;\">\n",
       "      <th></th>\n",
       "      <th>first_name</th>\n",
       "      <th>last_name</th>\n",
       "      <th>email</th>\n",
       "      <th>company</th>\n",
       "      <th>gender</th>\n",
       "      <th>full_name</th>\n",
       "    </tr>\n",
       "  </thead>\n",
       "  <tbody>\n",
       "    <tr>\n",
       "      <th>0</th>\n",
       "      <td>Nusrat</td>\n",
       "      <td>Jahan</td>\n",
       "      <td>nusrat.jahan@brac.org</td>\n",
       "      <td>BRAC</td>\n",
       "      <td>female</td>\n",
       "      <td>Nusrat Jahan</td>\n",
       "    </tr>\n",
       "    <tr>\n",
       "      <th>1</th>\n",
       "      <td>Mehedi</td>\n",
       "      <td>Hasan</td>\n",
       "      <td>mehedi.hasan@bkash.com</td>\n",
       "      <td>bKash</td>\n",
       "      <td>male</td>\n",
       "      <td>Mehedi Hasan</td>\n",
       "    </tr>\n",
       "    <tr>\n",
       "      <th>2</th>\n",
       "      <td>Tahmid</td>\n",
       "      <td>Rahman</td>\n",
       "      <td>tahmid.rahman@grameenphone.com</td>\n",
       "      <td>Grameenphone</td>\n",
       "      <td>male</td>\n",
       "      <td>Tahmid Rahman</td>\n",
       "    </tr>\n",
       "    <tr>\n",
       "      <th>3</th>\n",
       "      <td>Farhana</td>\n",
       "      <td>Akter</td>\n",
       "      <td>farhana.akter@robi.com.bd</td>\n",
       "      <td>Robi</td>\n",
       "      <td>female</td>\n",
       "      <td>Farhana Akter</td>\n",
       "    </tr>\n",
       "    <tr>\n",
       "      <th>4</th>\n",
       "      <td>Sadia</td>\n",
       "      <td>Chowdhury</td>\n",
       "      <td>sadia.chowdhury@du.ac.bd</td>\n",
       "      <td>University of Dhaka</td>\n",
       "      <td>female</td>\n",
       "      <td>Sadia Chowdhury</td>\n",
       "    </tr>\n",
       "    <tr>\n",
       "      <th>5</th>\n",
       "      <td>takwoa</td>\n",
       "      <td>ullah</td>\n",
       "      <td>takowaullah@gmail.com</td>\n",
       "      <td>microsoft</td>\n",
       "      <td>male</td>\n",
       "      <td>takwoa ullah</td>\n",
       "    </tr>\n",
       "    <tr>\n",
       "      <th>6</th>\n",
       "      <td>karim</td>\n",
       "      <td>mia</td>\n",
       "      <td>NaN</td>\n",
       "      <td>NaN</td>\n",
       "      <td>male</td>\n",
       "      <td>karim mia</td>\n",
       "    </tr>\n",
       "  </tbody>\n",
       "</table>\n",
       "</div>"
      ],
      "text/plain": [
       "  first_name  last_name                           email              company  \\\n",
       "0     Nusrat      Jahan           nusrat.jahan@brac.org                 BRAC   \n",
       "1     Mehedi      Hasan          mehedi.hasan@bkash.com                bKash   \n",
       "2     Tahmid     Rahman  tahmid.rahman@grameenphone.com         Grameenphone   \n",
       "3    Farhana      Akter       farhana.akter@robi.com.bd                 Robi   \n",
       "4      Sadia  Chowdhury        sadia.chowdhury@du.ac.bd  University of Dhaka   \n",
       "5     takwoa      ullah           takowaullah@gmail.com            microsoft   \n",
       "6      karim        mia                             NaN                  NaN   \n",
       "\n",
       "   gender        full_name  \n",
       "0  female     Nusrat Jahan  \n",
       "1    male     Mehedi Hasan  \n",
       "2    male    Tahmid Rahman  \n",
       "3  female    Farhana Akter  \n",
       "4  female  Sadia Chowdhury  \n",
       "5    male     takwoa ullah  \n",
       "6    male        karim mia  "
      ]
     },
     "execution_count": 14,
     "metadata": {},
     "output_type": "execute_result"
    }
   ],
   "source": [
    "df[\"full_name\"] = df[\"first_name\"] + \" \" + df[\"last_name\"]\n",
    "df"
   ]
  },
  {
   "cell_type": "code",
   "execution_count": 15,
   "id": "6ecb4d85",
   "metadata": {},
   "outputs": [
    {
     "data": {
      "application/vnd.microsoft.datawrangler.viewer.v0+json": {
       "columns": [
        {
         "name": "index",
         "rawType": "int64",
         "type": "integer"
        },
        {
         "name": "first_name",
         "rawType": "object",
         "type": "string"
        },
        {
         "name": "last_name",
         "rawType": "object",
         "type": "string"
        },
        {
         "name": "email",
         "rawType": "object",
         "type": "unknown"
        },
        {
         "name": "company",
         "rawType": "object",
         "type": "unknown"
        },
        {
         "name": "gender",
         "rawType": "object",
         "type": "string"
        }
       ],
       "ref": "a0aeef33-914f-4ddb-bdf1-d8a1f8acb8bc",
       "rows": [
        [
         "0",
         "Nusrat",
         "Jahan",
         "nusrat.jahan@brac.org",
         "BRAC",
         "female"
        ],
        [
         "1",
         "Mehedi",
         "Hasan",
         "mehedi.hasan@bkash.com",
         "bKash",
         "male"
        ],
        [
         "2",
         "Tahmid",
         "Rahman",
         "tahmid.rahman@grameenphone.com",
         "Grameenphone",
         "male"
        ],
        [
         "3",
         "Farhana",
         "Akter",
         "farhana.akter@robi.com.bd",
         "Robi",
         "female"
        ],
        [
         "4",
         "Sadia",
         "Chowdhury",
         "sadia.chowdhury@du.ac.bd",
         "University of Dhaka",
         "female"
        ],
        [
         "5",
         "takwoa",
         "ullah",
         "takowaullah@gmail.com",
         "microsoft",
         "male"
        ],
        [
         "6",
         "karim",
         "mia",
         null,
         null,
         "male"
        ]
       ],
       "shape": {
        "columns": 5,
        "rows": 7
       }
      },
      "text/html": [
       "<div>\n",
       "<style scoped>\n",
       "    .dataframe tbody tr th:only-of-type {\n",
       "        vertical-align: middle;\n",
       "    }\n",
       "\n",
       "    .dataframe tbody tr th {\n",
       "        vertical-align: top;\n",
       "    }\n",
       "\n",
       "    .dataframe thead th {\n",
       "        text-align: right;\n",
       "    }\n",
       "</style>\n",
       "<table border=\"1\" class=\"dataframe\">\n",
       "  <thead>\n",
       "    <tr style=\"text-align: right;\">\n",
       "      <th></th>\n",
       "      <th>first_name</th>\n",
       "      <th>last_name</th>\n",
       "      <th>email</th>\n",
       "      <th>company</th>\n",
       "      <th>gender</th>\n",
       "    </tr>\n",
       "  </thead>\n",
       "  <tbody>\n",
       "    <tr>\n",
       "      <th>0</th>\n",
       "      <td>Nusrat</td>\n",
       "      <td>Jahan</td>\n",
       "      <td>nusrat.jahan@brac.org</td>\n",
       "      <td>BRAC</td>\n",
       "      <td>female</td>\n",
       "    </tr>\n",
       "    <tr>\n",
       "      <th>1</th>\n",
       "      <td>Mehedi</td>\n",
       "      <td>Hasan</td>\n",
       "      <td>mehedi.hasan@bkash.com</td>\n",
       "      <td>bKash</td>\n",
       "      <td>male</td>\n",
       "    </tr>\n",
       "    <tr>\n",
       "      <th>2</th>\n",
       "      <td>Tahmid</td>\n",
       "      <td>Rahman</td>\n",
       "      <td>tahmid.rahman@grameenphone.com</td>\n",
       "      <td>Grameenphone</td>\n",
       "      <td>male</td>\n",
       "    </tr>\n",
       "    <tr>\n",
       "      <th>3</th>\n",
       "      <td>Farhana</td>\n",
       "      <td>Akter</td>\n",
       "      <td>farhana.akter@robi.com.bd</td>\n",
       "      <td>Robi</td>\n",
       "      <td>female</td>\n",
       "    </tr>\n",
       "    <tr>\n",
       "      <th>4</th>\n",
       "      <td>Sadia</td>\n",
       "      <td>Chowdhury</td>\n",
       "      <td>sadia.chowdhury@du.ac.bd</td>\n",
       "      <td>University of Dhaka</td>\n",
       "      <td>female</td>\n",
       "    </tr>\n",
       "    <tr>\n",
       "      <th>5</th>\n",
       "      <td>takwoa</td>\n",
       "      <td>ullah</td>\n",
       "      <td>takowaullah@gmail.com</td>\n",
       "      <td>microsoft</td>\n",
       "      <td>male</td>\n",
       "    </tr>\n",
       "    <tr>\n",
       "      <th>6</th>\n",
       "      <td>karim</td>\n",
       "      <td>mia</td>\n",
       "      <td>NaN</td>\n",
       "      <td>NaN</td>\n",
       "      <td>male</td>\n",
       "    </tr>\n",
       "  </tbody>\n",
       "</table>\n",
       "</div>"
      ],
      "text/plain": [
       "  first_name  last_name                           email              company  \\\n",
       "0     Nusrat      Jahan           nusrat.jahan@brac.org                 BRAC   \n",
       "1     Mehedi      Hasan          mehedi.hasan@bkash.com                bKash   \n",
       "2     Tahmid     Rahman  tahmid.rahman@grameenphone.com         Grameenphone   \n",
       "3    Farhana      Akter       farhana.akter@robi.com.bd                 Robi   \n",
       "4      Sadia  Chowdhury        sadia.chowdhury@du.ac.bd  University of Dhaka   \n",
       "5     takwoa      ullah           takowaullah@gmail.com            microsoft   \n",
       "6      karim        mia                             NaN                  NaN   \n",
       "\n",
       "   gender  \n",
       "0  female  \n",
       "1    male  \n",
       "2    male  \n",
       "3  female  \n",
       "4  female  \n",
       "5    male  \n",
       "6    male  "
      ]
     },
     "execution_count": 15,
     "metadata": {},
     "output_type": "execute_result"
    }
   ],
   "source": [
    "df.drop('full_name', axis=1, inplace=True)\n",
    "df"
   ]
  },
  {
   "cell_type": "code",
   "execution_count": null,
   "id": "c5b8e75b",
   "metadata": {},
   "outputs": [],
   "source": [
    "df.gender.map()"
   ]
  }
 ],
 "metadata": {
  "kernelspec": {
   "display_name": "myvenv",
   "language": "python",
   "name": "python3"
  },
  "language_info": {
   "codemirror_mode": {
    "name": "ipython",
    "version": 3
   },
   "file_extension": ".py",
   "mimetype": "text/x-python",
   "name": "python",
   "nbconvert_exporter": "python",
   "pygments_lexer": "ipython3",
   "version": "3.10.18"
  }
 },
 "nbformat": 4,
 "nbformat_minor": 5
}
