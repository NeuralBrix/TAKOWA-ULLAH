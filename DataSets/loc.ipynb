{
 "cells": [
  {
   "cell_type": "code",
   "execution_count": 1,
   "id": "281057ae",
   "metadata": {},
   "outputs": [],
   "source": [
    "import pandas as pd"
   ]
  },
  {
   "cell_type": "code",
   "execution_count": null,
   "id": "673bf21c",
   "metadata": {},
   "outputs": [
    {
     "name": "stdout",
     "output_type": "stream",
     "text": [
      "     Name  age       city\n",
      "a    alic   20      dhaka\n",
      "b     bob   35   rajshahi\n",
      "c  carlie   25  sirajgonj\n",
      "d    alen   40     bogura\n"
     ]
    }
   ],
   "source": [
    "# loc \n",
    "# label-based indexing\n",
    "# enclusive\n",
    "df = pd.DataFrame({\n",
    "    \"Name\" : [\"alic\", \"bob\", \"carlie\", \"alen\"],\n",
    "    \"age\" : [20, 35, 25, 40],\n",
    "    \"city\" : [\"dhaka\",\"rajshahi\",\"sirajgonj\",\"bogura\"],\n",
    "}, index=[\"a\",\"b\",\"c\",\"d\"])\n",
    "print(df)"
   ]
  },
  {
   "cell_type": "code",
   "execution_count": 3,
   "id": "d25889f1",
   "metadata": {},
   "outputs": [
    {
     "name": "stdout",
     "output_type": "stream",
     "text": [
      "a      alic\n",
      "b       bob\n",
      "c    carlie\n",
      "d      alen\n",
      "Name: Name, dtype: object\n"
     ]
    }
   ],
   "source": [
    "print(df[\"Name\"])"
   ]
  },
  {
   "cell_type": "code",
   "execution_count": 4,
   "id": "cde1c527",
   "metadata": {},
   "outputs": [
    {
     "name": "stdout",
     "output_type": "stream",
     "text": [
      "     Name  age       city\n",
      "a    alic   20      dhaka\n",
      "c  carlie   25  sirajgonj\n"
     ]
    }
   ],
   "source": [
    "print(df.loc[['a','c']])"
   ]
  },
  {
   "cell_type": "code",
   "execution_count": 5,
   "id": "fc1e0ac7",
   "metadata": {},
   "outputs": [
    {
     "name": "stdout",
     "output_type": "stream",
     "text": [
      "     Name  age       city\n",
      "a    alic   20      dhaka\n",
      "b     bob   35   rajshahi\n",
      "c  carlie   25  sirajgonj\n",
      "d    alen   40     bogura\n"
     ]
    }
   ],
   "source": [
    "# loc sliceing\n",
    "print(df.loc[:])"
   ]
  },
  {
   "cell_type": "code",
   "execution_count": 6,
   "id": "39fe0769",
   "metadata": {},
   "outputs": [
    {
     "name": "stdout",
     "output_type": "stream",
     "text": [
      "Name     alic\n",
      "city    dhaka\n",
      "Name: a, dtype: object\n"
     ]
    }
   ],
   "source": [
    "print(df.loc['a',['Name','city']])"
   ]
  },
  {
   "cell_type": "code",
   "execution_count": 7,
   "id": "19dbdd05",
   "metadata": {},
   "outputs": [
    {
     "name": "stdout",
     "output_type": "stream",
     "text": [
      "     Name       city\n",
      "a    alic      dhaka\n",
      "b     bob   rajshahi\n",
      "c  carlie  sirajgonj\n",
      "d    alen     bogura\n"
     ]
    }
   ],
   "source": [
    "print(df.loc[:,['Name','city']])"
   ]
  },
  {
   "cell_type": "code",
   "execution_count": 8,
   "id": "e7dfb1cf",
   "metadata": {},
   "outputs": [
    {
     "name": "stdout",
     "output_type": "stream",
     "text": [
      "     Name  age       city\n",
      "b     bob   35   rajshahi\n",
      "c  carlie   25  sirajgonj\n",
      "d    alen   40     bogura\n"
     ]
    }
   ],
   "source": [
    "print(df.loc[df['age'] > 20])"
   ]
  },
  {
   "cell_type": "code",
   "execution_count": 11,
   "id": "c0fe28d8",
   "metadata": {},
   "outputs": [
    {
     "name": "stdout",
     "output_type": "stream",
     "text": [
      "     Name  age\n",
      "b     bob   35\n",
      "c  carlie   25\n",
      "d    alen   40\n"
     ]
    }
   ],
   "source": [
    "print(df.loc['b':'d','Name':'age'])"
   ]
  },
  {
   "cell_type": "code",
   "execution_count": null,
   "id": "1ceb9710",
   "metadata": {},
   "outputs": [],
   "source": []
  },
  {
   "cell_type": "code",
   "execution_count": null,
   "id": "cb9e9cb4",
   "metadata": {},
   "outputs": [],
   "source": []
  },
  {
   "cell_type": "code",
   "execution_count": null,
   "id": "472b1b7a",
   "metadata": {},
   "outputs": [],
   "source": []
  },
  {
   "cell_type": "code",
   "execution_count": null,
   "id": "97627735",
   "metadata": {},
   "outputs": [],
   "source": []
  },
  {
   "cell_type": "code",
   "execution_count": null,
   "id": "cd276564",
   "metadata": {},
   "outputs": [],
   "source": []
  },
  {
   "cell_type": "code",
   "execution_count": null,
   "id": "6fb37fee",
   "metadata": {},
   "outputs": [],
   "source": []
  }
 ],
 "metadata": {
  "kernelspec": {
   "display_name": "myvenv",
   "language": "python",
   "name": "python3"
  },
  "language_info": {
   "codemirror_mode": {
    "name": "ipython",
    "version": 3
   },
   "file_extension": ".py",
   "mimetype": "text/x-python",
   "name": "python",
   "nbconvert_exporter": "python",
   "pygments_lexer": "ipython3",
   "version": "3.10.18"
  }
 },
 "nbformat": 4,
 "nbformat_minor": 5
}
