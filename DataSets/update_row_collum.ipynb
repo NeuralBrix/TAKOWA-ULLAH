{
 "cells": [
  {
   "cell_type": "code",
   "execution_count": 22,
   "id": "1c309ade",
   "metadata": {},
   "outputs": [],
   "source": [
    "import pandas as pd"
   ]
  },
  {
   "cell_type": "markdown",
   "id": "6fd9f5d6",
   "metadata": {
    "notebookRunGroups": {
     "groupValue": "2"
    }
   },
   "source": [
    "Update Row"
   ]
  },
  {
   "cell_type": "markdown",
   "id": "22131acd",
   "metadata": {},
   "source": []
  },
  {
   "cell_type": "code",
   "execution_count": 23,
   "id": "381b8aae",
   "metadata": {},
   "outputs": [],
   "source": [
    "group_people = {\n",
    "    \"first_name\": [\"Nusrat\", \"Mehedi\", \"Tahmid\", \"Farhana\", \"Sadia\"],\n",
    "    \"last_name\":  [\"Jahan\", \"Hasan\", \"Rahman\", \"Akter\", \"Chowdhury\"],\n",
    "    \"email\": [\n",
    "        \"nusrat.jahan@brac.org\",          # illustrative\n",
    "        \"mehedi.hasan@bkash.com\",         # illustrative\n",
    "        \"tahmid.rahman@grameenphone.com\", # illustrative\n",
    "        \"farhana.akter@robi.com.bd\",      # illustrative\n",
    "        \"sadia.chowdhury@du.ac.bd\",       # illustrative\n",
    "    ],\n",
    "    \"company\": [\"BRAC\", \"bKash\", \"Grameenphone\", \"Robi\", \"University of Dhaka\"],\n",
    "}"
   ]
  },
  {
   "cell_type": "code",
   "execution_count": 24,
   "id": "b8053a45",
   "metadata": {},
   "outputs": [
    {
     "data": {
      "application/vnd.microsoft.datawrangler.viewer.v0+json": {
       "columns": [
        {
         "name": "index",
         "rawType": "int64",
         "type": "integer"
        },
        {
         "name": "first_name",
         "rawType": "object",
         "type": "string"
        },
        {
         "name": "last_name",
         "rawType": "object",
         "type": "string"
        },
        {
         "name": "email",
         "rawType": "object",
         "type": "string"
        },
        {
         "name": "company",
         "rawType": "object",
         "type": "string"
        }
       ],
       "ref": "443883ef-67fe-4f60-a7c2-80d353dc4de8",
       "rows": [
        [
         "0",
         "Nusrat",
         "Jahan",
         "nusrat.jahan@brac.org",
         "BRAC"
        ],
        [
         "1",
         "Mehedi",
         "Hasan",
         "mehedi.hasan@bkash.com",
         "bKash"
        ],
        [
         "2",
         "Tahmid",
         "Rahman",
         "tahmid.rahman@grameenphone.com",
         "Grameenphone"
        ],
        [
         "3",
         "Farhana",
         "Akter",
         "farhana.akter@robi.com.bd",
         "Robi"
        ],
        [
         "4",
         "Sadia",
         "Chowdhury",
         "sadia.chowdhury@du.ac.bd",
         "University of Dhaka"
        ]
       ],
       "shape": {
        "columns": 4,
        "rows": 5
       }
      },
      "text/html": [
       "<div>\n",
       "<style scoped>\n",
       "    .dataframe tbody tr th:only-of-type {\n",
       "        vertical-align: middle;\n",
       "    }\n",
       "\n",
       "    .dataframe tbody tr th {\n",
       "        vertical-align: top;\n",
       "    }\n",
       "\n",
       "    .dataframe thead th {\n",
       "        text-align: right;\n",
       "    }\n",
       "</style>\n",
       "<table border=\"1\" class=\"dataframe\">\n",
       "  <thead>\n",
       "    <tr style=\"text-align: right;\">\n",
       "      <th></th>\n",
       "      <th>first_name</th>\n",
       "      <th>last_name</th>\n",
       "      <th>email</th>\n",
       "      <th>company</th>\n",
       "    </tr>\n",
       "  </thead>\n",
       "  <tbody>\n",
       "    <tr>\n",
       "      <th>0</th>\n",
       "      <td>Nusrat</td>\n",
       "      <td>Jahan</td>\n",
       "      <td>nusrat.jahan@brac.org</td>\n",
       "      <td>BRAC</td>\n",
       "    </tr>\n",
       "    <tr>\n",
       "      <th>1</th>\n",
       "      <td>Mehedi</td>\n",
       "      <td>Hasan</td>\n",
       "      <td>mehedi.hasan@bkash.com</td>\n",
       "      <td>bKash</td>\n",
       "    </tr>\n",
       "    <tr>\n",
       "      <th>2</th>\n",
       "      <td>Tahmid</td>\n",
       "      <td>Rahman</td>\n",
       "      <td>tahmid.rahman@grameenphone.com</td>\n",
       "      <td>Grameenphone</td>\n",
       "    </tr>\n",
       "    <tr>\n",
       "      <th>3</th>\n",
       "      <td>Farhana</td>\n",
       "      <td>Akter</td>\n",
       "      <td>farhana.akter@robi.com.bd</td>\n",
       "      <td>Robi</td>\n",
       "    </tr>\n",
       "    <tr>\n",
       "      <th>4</th>\n",
       "      <td>Sadia</td>\n",
       "      <td>Chowdhury</td>\n",
       "      <td>sadia.chowdhury@du.ac.bd</td>\n",
       "      <td>University of Dhaka</td>\n",
       "    </tr>\n",
       "  </tbody>\n",
       "</table>\n",
       "</div>"
      ],
      "text/plain": [
       "  first_name  last_name                           email              company\n",
       "0     Nusrat      Jahan           nusrat.jahan@brac.org                 BRAC\n",
       "1     Mehedi      Hasan          mehedi.hasan@bkash.com                bKash\n",
       "2     Tahmid     Rahman  tahmid.rahman@grameenphone.com         Grameenphone\n",
       "3    Farhana      Akter       farhana.akter@robi.com.bd                 Robi\n",
       "4      Sadia  Chowdhury        sadia.chowdhury@du.ac.bd  University of Dhaka"
      ]
     },
     "execution_count": 24,
     "metadata": {},
     "output_type": "execute_result"
    }
   ],
   "source": [
    "df = pd.DataFrame(group_people)\n",
    "df"
   ]
  },
  {
   "cell_type": "code",
   "execution_count": 25,
   "id": "515b2205",
   "metadata": {},
   "outputs": [
    {
     "data": {
      "application/vnd.microsoft.datawrangler.viewer.v0+json": {
       "columns": [
        {
         "name": "index",
         "rawType": "int64",
         "type": "integer"
        },
        {
         "name": "first_name",
         "rawType": "object",
         "type": "string"
        },
        {
         "name": "last_name",
         "rawType": "object",
         "type": "string"
        },
        {
         "name": "email",
         "rawType": "object",
         "type": "string"
        },
        {
         "name": "company",
         "rawType": "object",
         "type": "string"
        }
       ],
       "ref": "52e8913b-5a33-43ad-a0ad-562be1bbcd8a",
       "rows": [
        [
         "0",
         "Nusrat",
         "Jahan",
         "nusrat.jahan@brac.org",
         "BRAC"
        ],
        [
         "1",
         "Mehedi",
         "Hasan",
         "mehedi.hasan@bkash.com",
         "bKash"
        ],
        [
         "2",
         "takowa",
         "Rahman",
         "tahmid.rahman@grameenphone.com",
         "Grameenphone"
        ],
        [
         "3",
         "Farhana",
         "Akter",
         "farhana.akter@robi.com.bd",
         "Robi"
        ],
        [
         "4",
         "Sadia",
         "Chowdhury",
         "sadia.chowdhury@du.ac.bd",
         "University of Dhaka"
        ]
       ],
       "shape": {
        "columns": 4,
        "rows": 5
       }
      },
      "text/html": [
       "<div>\n",
       "<style scoped>\n",
       "    .dataframe tbody tr th:only-of-type {\n",
       "        vertical-align: middle;\n",
       "    }\n",
       "\n",
       "    .dataframe tbody tr th {\n",
       "        vertical-align: top;\n",
       "    }\n",
       "\n",
       "    .dataframe thead th {\n",
       "        text-align: right;\n",
       "    }\n",
       "</style>\n",
       "<table border=\"1\" class=\"dataframe\">\n",
       "  <thead>\n",
       "    <tr style=\"text-align: right;\">\n",
       "      <th></th>\n",
       "      <th>first_name</th>\n",
       "      <th>last_name</th>\n",
       "      <th>email</th>\n",
       "      <th>company</th>\n",
       "    </tr>\n",
       "  </thead>\n",
       "  <tbody>\n",
       "    <tr>\n",
       "      <th>0</th>\n",
       "      <td>Nusrat</td>\n",
       "      <td>Jahan</td>\n",
       "      <td>nusrat.jahan@brac.org</td>\n",
       "      <td>BRAC</td>\n",
       "    </tr>\n",
       "    <tr>\n",
       "      <th>1</th>\n",
       "      <td>Mehedi</td>\n",
       "      <td>Hasan</td>\n",
       "      <td>mehedi.hasan@bkash.com</td>\n",
       "      <td>bKash</td>\n",
       "    </tr>\n",
       "    <tr>\n",
       "      <th>2</th>\n",
       "      <td>takowa</td>\n",
       "      <td>Rahman</td>\n",
       "      <td>tahmid.rahman@grameenphone.com</td>\n",
       "      <td>Grameenphone</td>\n",
       "    </tr>\n",
       "    <tr>\n",
       "      <th>3</th>\n",
       "      <td>Farhana</td>\n",
       "      <td>Akter</td>\n",
       "      <td>farhana.akter@robi.com.bd</td>\n",
       "      <td>Robi</td>\n",
       "    </tr>\n",
       "    <tr>\n",
       "      <th>4</th>\n",
       "      <td>Sadia</td>\n",
       "      <td>Chowdhury</td>\n",
       "      <td>sadia.chowdhury@du.ac.bd</td>\n",
       "      <td>University of Dhaka</td>\n",
       "    </tr>\n",
       "  </tbody>\n",
       "</table>\n",
       "</div>"
      ],
      "text/plain": [
       "  first_name  last_name                           email              company\n",
       "0     Nusrat      Jahan           nusrat.jahan@brac.org                 BRAC\n",
       "1     Mehedi      Hasan          mehedi.hasan@bkash.com                bKash\n",
       "2     takowa     Rahman  tahmid.rahman@grameenphone.com         Grameenphone\n",
       "3    Farhana      Akter       farhana.akter@robi.com.bd                 Robi\n",
       "4      Sadia  Chowdhury        sadia.chowdhury@du.ac.bd  University of Dhaka"
      ]
     },
     "execution_count": 25,
     "metadata": {},
     "output_type": "execute_result"
    }
   ],
   "source": [
    "df.loc[2,'first_name'] = \"takowa\"\n",
    "df"
   ]
  },
  {
   "cell_type": "code",
   "execution_count": 26,
   "id": "1a0227d1",
   "metadata": {},
   "outputs": [
    {
     "data": {
      "application/vnd.microsoft.datawrangler.viewer.v0+json": {
       "columns": [
        {
         "name": "index",
         "rawType": "int64",
         "type": "integer"
        },
        {
         "name": "first_name",
         "rawType": "object",
         "type": "string"
        },
        {
         "name": "last_name",
         "rawType": "object",
         "type": "string"
        },
        {
         "name": "email",
         "rawType": "object",
         "type": "string"
        },
        {
         "name": "company",
         "rawType": "object",
         "type": "string"
        }
       ],
       "ref": "0c3e2dd6-4a50-4b20-9cda-c51bb8250518",
       "rows": [
        [
         "0",
         "Nusrat",
         "Jahan",
         "nusrat.jahan@brac.org",
         "BRAC"
        ],
        [
         "1",
         "Mehedi",
         "Hasan",
         "mehedi.hasan@bkash.com",
         "bKash"
        ],
        [
         "2",
         "Takowa",
         "Ullah",
         "takowa420@gmail.com",
         "google"
        ],
        [
         "3",
         "Farhana",
         "Akter",
         "farhana.akter@robi.com.bd",
         "Robi"
        ],
        [
         "4",
         "Sadia",
         "Chowdhury",
         "sadia.chowdhury@du.ac.bd",
         "University of Dhaka"
        ]
       ],
       "shape": {
        "columns": 4,
        "rows": 5
       }
      },
      "text/html": [
       "<div>\n",
       "<style scoped>\n",
       "    .dataframe tbody tr th:only-of-type {\n",
       "        vertical-align: middle;\n",
       "    }\n",
       "\n",
       "    .dataframe tbody tr th {\n",
       "        vertical-align: top;\n",
       "    }\n",
       "\n",
       "    .dataframe thead th {\n",
       "        text-align: right;\n",
       "    }\n",
       "</style>\n",
       "<table border=\"1\" class=\"dataframe\">\n",
       "  <thead>\n",
       "    <tr style=\"text-align: right;\">\n",
       "      <th></th>\n",
       "      <th>first_name</th>\n",
       "      <th>last_name</th>\n",
       "      <th>email</th>\n",
       "      <th>company</th>\n",
       "    </tr>\n",
       "  </thead>\n",
       "  <tbody>\n",
       "    <tr>\n",
       "      <th>0</th>\n",
       "      <td>Nusrat</td>\n",
       "      <td>Jahan</td>\n",
       "      <td>nusrat.jahan@brac.org</td>\n",
       "      <td>BRAC</td>\n",
       "    </tr>\n",
       "    <tr>\n",
       "      <th>1</th>\n",
       "      <td>Mehedi</td>\n",
       "      <td>Hasan</td>\n",
       "      <td>mehedi.hasan@bkash.com</td>\n",
       "      <td>bKash</td>\n",
       "    </tr>\n",
       "    <tr>\n",
       "      <th>2</th>\n",
       "      <td>Takowa</td>\n",
       "      <td>Ullah</td>\n",
       "      <td>takowa420@gmail.com</td>\n",
       "      <td>google</td>\n",
       "    </tr>\n",
       "    <tr>\n",
       "      <th>3</th>\n",
       "      <td>Farhana</td>\n",
       "      <td>Akter</td>\n",
       "      <td>farhana.akter@robi.com.bd</td>\n",
       "      <td>Robi</td>\n",
       "    </tr>\n",
       "    <tr>\n",
       "      <th>4</th>\n",
       "      <td>Sadia</td>\n",
       "      <td>Chowdhury</td>\n",
       "      <td>sadia.chowdhury@du.ac.bd</td>\n",
       "      <td>University of Dhaka</td>\n",
       "    </tr>\n",
       "  </tbody>\n",
       "</table>\n",
       "</div>"
      ],
      "text/plain": [
       "  first_name  last_name                      email              company\n",
       "0     Nusrat      Jahan      nusrat.jahan@brac.org                 BRAC\n",
       "1     Mehedi      Hasan     mehedi.hasan@bkash.com                bKash\n",
       "2     Takowa      Ullah        takowa420@gmail.com               google\n",
       "3    Farhana      Akter  farhana.akter@robi.com.bd                 Robi\n",
       "4      Sadia  Chowdhury   sadia.chowdhury@du.ac.bd  University of Dhaka"
      ]
     },
     "execution_count": 26,
     "metadata": {},
     "output_type": "execute_result"
    }
   ],
   "source": [
    "df.loc[2] = [\"Takowa\",  \"Ullah\",  \"takowa420@gmail.com\", \"google\"]\n",
    "df"
   ]
  },
  {
   "cell_type": "code",
   "execution_count": 27,
   "id": "46659afa",
   "metadata": {},
   "outputs": [
    {
     "data": {
      "application/vnd.microsoft.datawrangler.viewer.v0+json": {
       "columns": [
        {
         "name": "index",
         "rawType": "int64",
         "type": "integer"
        },
        {
         "name": "email",
         "rawType": "object",
         "type": "string"
        }
       ],
       "ref": "c0165434-21cc-4695-a25f-b546434b70fb",
       "rows": [
        [
         "0",
         "NUSRAT.JAHAN@BRAC.ORG"
        ],
        [
         "1",
         "MEHEDI.HASAN@BKASH.COM"
        ],
        [
         "2",
         "TAKOWA420@GMAIL.COM"
        ],
        [
         "3",
         "FARHANA.AKTER@ROBI.COM.BD"
        ],
        [
         "4",
         "SADIA.CHOWDHURY@DU.AC.BD"
        ]
       ],
       "shape": {
        "columns": 1,
        "rows": 5
       }
      },
      "text/plain": [
       "0        NUSRAT.JAHAN@BRAC.ORG\n",
       "1       MEHEDI.HASAN@BKASH.COM\n",
       "2          TAKOWA420@GMAIL.COM\n",
       "3    FARHANA.AKTER@ROBI.COM.BD\n",
       "4     SADIA.CHOWDHURY@DU.AC.BD\n",
       "Name: email, dtype: object"
      ]
     },
     "execution_count": 27,
     "metadata": {},
     "output_type": "execute_result"
    }
   ],
   "source": [
    "df[\"email\"].str.upper()"
   ]
  },
  {
   "cell_type": "code",
   "execution_count": 28,
   "id": "30a83f01",
   "metadata": {},
   "outputs": [
    {
     "data": {
      "application/vnd.microsoft.datawrangler.viewer.v0+json": {
       "columns": [
        {
         "name": "index",
         "rawType": "int64",
         "type": "integer"
        },
        {
         "name": "first_name",
         "rawType": "object",
         "type": "string"
        },
        {
         "name": "last_name",
         "rawType": "object",
         "type": "string"
        },
        {
         "name": "email",
         "rawType": "object",
         "type": "string"
        },
        {
         "name": "company",
         "rawType": "object",
         "type": "string"
        }
       ],
       "ref": "189a336f-9519-47bd-98c4-28cbeea7adbf",
       "rows": [
        [
         "0",
         "Nusrat",
         "Jahan",
         "nusrat.jahan@brac.org",
         "BRAC"
        ],
        [
         "1",
         "Mehedi",
         "Hasan",
         "mehedi.hasan@bkash.com",
         "bKash"
        ],
        [
         "2",
         "Takowa",
         "Ullah",
         "takowa420@gmail.com",
         "google"
        ],
        [
         "3",
         "Farhana",
         "Akter",
         "farhana.akter@robi.com.bd",
         "Robi"
        ],
        [
         "4",
         "Sadia",
         "Chowdhury",
         "sadia.chowdhury@du.ac.bd",
         "University of Dhaka"
        ]
       ],
       "shape": {
        "columns": 4,
        "rows": 5
       }
      },
      "text/html": [
       "<div>\n",
       "<style scoped>\n",
       "    .dataframe tbody tr th:only-of-type {\n",
       "        vertical-align: middle;\n",
       "    }\n",
       "\n",
       "    .dataframe tbody tr th {\n",
       "        vertical-align: top;\n",
       "    }\n",
       "\n",
       "    .dataframe thead th {\n",
       "        text-align: right;\n",
       "    }\n",
       "</style>\n",
       "<table border=\"1\" class=\"dataframe\">\n",
       "  <thead>\n",
       "    <tr style=\"text-align: right;\">\n",
       "      <th></th>\n",
       "      <th>first_name</th>\n",
       "      <th>last_name</th>\n",
       "      <th>email</th>\n",
       "      <th>company</th>\n",
       "    </tr>\n",
       "  </thead>\n",
       "  <tbody>\n",
       "    <tr>\n",
       "      <th>0</th>\n",
       "      <td>Nusrat</td>\n",
       "      <td>Jahan</td>\n",
       "      <td>nusrat.jahan@brac.org</td>\n",
       "      <td>BRAC</td>\n",
       "    </tr>\n",
       "    <tr>\n",
       "      <th>1</th>\n",
       "      <td>Mehedi</td>\n",
       "      <td>Hasan</td>\n",
       "      <td>mehedi.hasan@bkash.com</td>\n",
       "      <td>bKash</td>\n",
       "    </tr>\n",
       "    <tr>\n",
       "      <th>2</th>\n",
       "      <td>Takowa</td>\n",
       "      <td>Ullah</td>\n",
       "      <td>takowa420@gmail.com</td>\n",
       "      <td>google</td>\n",
       "    </tr>\n",
       "    <tr>\n",
       "      <th>3</th>\n",
       "      <td>Farhana</td>\n",
       "      <td>Akter</td>\n",
       "      <td>farhana.akter@robi.com.bd</td>\n",
       "      <td>Robi</td>\n",
       "    </tr>\n",
       "    <tr>\n",
       "      <th>4</th>\n",
       "      <td>Sadia</td>\n",
       "      <td>Chowdhury</td>\n",
       "      <td>sadia.chowdhury@du.ac.bd</td>\n",
       "      <td>University of Dhaka</td>\n",
       "    </tr>\n",
       "  </tbody>\n",
       "</table>\n",
       "</div>"
      ],
      "text/plain": [
       "  first_name  last_name                      email              company\n",
       "0     Nusrat      Jahan      nusrat.jahan@brac.org                 BRAC\n",
       "1     Mehedi      Hasan     mehedi.hasan@bkash.com                bKash\n",
       "2     Takowa      Ullah        takowa420@gmail.com               google\n",
       "3    Farhana      Akter  farhana.akter@robi.com.bd                 Robi\n",
       "4      Sadia  Chowdhury   sadia.chowdhury@du.ac.bd  University of Dhaka"
      ]
     },
     "execution_count": 28,
     "metadata": {},
     "output_type": "execute_result"
    }
   ],
   "source": [
    "df"
   ]
  },
  {
   "cell_type": "code",
   "execution_count": 29,
   "id": "7fb4391f",
   "metadata": {},
   "outputs": [
    {
     "data": {
      "application/vnd.microsoft.datawrangler.viewer.v0+json": {
       "columns": [
        {
         "name": "index",
         "rawType": "int64",
         "type": "integer"
        },
        {
         "name": "first_name",
         "rawType": "object",
         "type": "string"
        },
        {
         "name": "last_name",
         "rawType": "object",
         "type": "string"
        },
        {
         "name": "email",
         "rawType": "object",
         "type": "string"
        },
        {
         "name": "company",
         "rawType": "object",
         "type": "string"
        }
       ],
       "ref": "a845a597-72dd-46f7-bcc7-057ab71c71d7",
       "rows": [
        [
         "0",
         "Nusrat",
         "Jahan",
         "NUSRAT.JAHAN@BRAC.ORG",
         "BRAC"
        ],
        [
         "1",
         "Mehedi",
         "Hasan",
         "MEHEDI.HASAN@BKASH.COM",
         "bKash"
        ],
        [
         "2",
         "Takowa",
         "Ullah",
         "TAKOWA420@GMAIL.COM",
         "google"
        ],
        [
         "3",
         "Farhana",
         "Akter",
         "FARHANA.AKTER@ROBI.COM.BD",
         "Robi"
        ],
        [
         "4",
         "Sadia",
         "Chowdhury",
         "SADIA.CHOWDHURY@DU.AC.BD",
         "University of Dhaka"
        ]
       ],
       "shape": {
        "columns": 4,
        "rows": 5
       }
      },
      "text/html": [
       "<div>\n",
       "<style scoped>\n",
       "    .dataframe tbody tr th:only-of-type {\n",
       "        vertical-align: middle;\n",
       "    }\n",
       "\n",
       "    .dataframe tbody tr th {\n",
       "        vertical-align: top;\n",
       "    }\n",
       "\n",
       "    .dataframe thead th {\n",
       "        text-align: right;\n",
       "    }\n",
       "</style>\n",
       "<table border=\"1\" class=\"dataframe\">\n",
       "  <thead>\n",
       "    <tr style=\"text-align: right;\">\n",
       "      <th></th>\n",
       "      <th>first_name</th>\n",
       "      <th>last_name</th>\n",
       "      <th>email</th>\n",
       "      <th>company</th>\n",
       "    </tr>\n",
       "  </thead>\n",
       "  <tbody>\n",
       "    <tr>\n",
       "      <th>0</th>\n",
       "      <td>Nusrat</td>\n",
       "      <td>Jahan</td>\n",
       "      <td>NUSRAT.JAHAN@BRAC.ORG</td>\n",
       "      <td>BRAC</td>\n",
       "    </tr>\n",
       "    <tr>\n",
       "      <th>1</th>\n",
       "      <td>Mehedi</td>\n",
       "      <td>Hasan</td>\n",
       "      <td>MEHEDI.HASAN@BKASH.COM</td>\n",
       "      <td>bKash</td>\n",
       "    </tr>\n",
       "    <tr>\n",
       "      <th>2</th>\n",
       "      <td>Takowa</td>\n",
       "      <td>Ullah</td>\n",
       "      <td>TAKOWA420@GMAIL.COM</td>\n",
       "      <td>google</td>\n",
       "    </tr>\n",
       "    <tr>\n",
       "      <th>3</th>\n",
       "      <td>Farhana</td>\n",
       "      <td>Akter</td>\n",
       "      <td>FARHANA.AKTER@ROBI.COM.BD</td>\n",
       "      <td>Robi</td>\n",
       "    </tr>\n",
       "    <tr>\n",
       "      <th>4</th>\n",
       "      <td>Sadia</td>\n",
       "      <td>Chowdhury</td>\n",
       "      <td>SADIA.CHOWDHURY@DU.AC.BD</td>\n",
       "      <td>University of Dhaka</td>\n",
       "    </tr>\n",
       "  </tbody>\n",
       "</table>\n",
       "</div>"
      ],
      "text/plain": [
       "  first_name  last_name                      email              company\n",
       "0     Nusrat      Jahan      NUSRAT.JAHAN@BRAC.ORG                 BRAC\n",
       "1     Mehedi      Hasan     MEHEDI.HASAN@BKASH.COM                bKash\n",
       "2     Takowa      Ullah        TAKOWA420@GMAIL.COM               google\n",
       "3    Farhana      Akter  FARHANA.AKTER@ROBI.COM.BD                 Robi\n",
       "4      Sadia  Chowdhury   SADIA.CHOWDHURY@DU.AC.BD  University of Dhaka"
      ]
     },
     "execution_count": 29,
     "metadata": {},
     "output_type": "execute_result"
    }
   ],
   "source": [
    "df[\"email\"] = df[\"email\"].str.upper()\n",
    "df"
   ]
  },
  {
   "cell_type": "code",
   "execution_count": 30,
   "id": "f1e36e8b",
   "metadata": {},
   "outputs": [
    {
     "data": {
      "application/vnd.microsoft.datawrangler.viewer.v0+json": {
       "columns": [
        {
         "name": "index",
         "rawType": "int64",
         "type": "integer"
        },
        {
         "name": "first_name",
         "rawType": "object",
         "type": "string"
        },
        {
         "name": "last_name",
         "rawType": "object",
         "type": "string"
        },
        {
         "name": "email",
         "rawType": "object",
         "type": "string"
        },
        {
         "name": "company",
         "rawType": "object",
         "type": "string"
        }
       ],
       "ref": "f2b2fb66-2b33-4533-b7a2-933abd2d3d6f",
       "rows": [
        [
         "0",
         "Nusrat",
         "Jahan",
         "nusrat.jahan@brac.org",
         "BRAC"
        ],
        [
         "1",
         "Mehedi",
         "Hasan",
         "mehedi.hasan@bkash.com",
         "bKash"
        ],
        [
         "2",
         "Takowa",
         "Ullah",
         "takowa420@gmail.com",
         "google"
        ],
        [
         "3",
         "Farhana",
         "Akter",
         "farhana.akter@robi.com.bd",
         "Robi"
        ],
        [
         "4",
         "Sadia",
         "Chowdhury",
         "sadia.chowdhury@du.ac.bd",
         "University of Dhaka"
        ]
       ],
       "shape": {
        "columns": 4,
        "rows": 5
       }
      },
      "text/html": [
       "<div>\n",
       "<style scoped>\n",
       "    .dataframe tbody tr th:only-of-type {\n",
       "        vertical-align: middle;\n",
       "    }\n",
       "\n",
       "    .dataframe tbody tr th {\n",
       "        vertical-align: top;\n",
       "    }\n",
       "\n",
       "    .dataframe thead th {\n",
       "        text-align: right;\n",
       "    }\n",
       "</style>\n",
       "<table border=\"1\" class=\"dataframe\">\n",
       "  <thead>\n",
       "    <tr style=\"text-align: right;\">\n",
       "      <th></th>\n",
       "      <th>first_name</th>\n",
       "      <th>last_name</th>\n",
       "      <th>email</th>\n",
       "      <th>company</th>\n",
       "    </tr>\n",
       "  </thead>\n",
       "  <tbody>\n",
       "    <tr>\n",
       "      <th>0</th>\n",
       "      <td>Nusrat</td>\n",
       "      <td>Jahan</td>\n",
       "      <td>nusrat.jahan@brac.org</td>\n",
       "      <td>BRAC</td>\n",
       "    </tr>\n",
       "    <tr>\n",
       "      <th>1</th>\n",
       "      <td>Mehedi</td>\n",
       "      <td>Hasan</td>\n",
       "      <td>mehedi.hasan@bkash.com</td>\n",
       "      <td>bKash</td>\n",
       "    </tr>\n",
       "    <tr>\n",
       "      <th>2</th>\n",
       "      <td>Takowa</td>\n",
       "      <td>Ullah</td>\n",
       "      <td>takowa420@gmail.com</td>\n",
       "      <td>google</td>\n",
       "    </tr>\n",
       "    <tr>\n",
       "      <th>3</th>\n",
       "      <td>Farhana</td>\n",
       "      <td>Akter</td>\n",
       "      <td>farhana.akter@robi.com.bd</td>\n",
       "      <td>Robi</td>\n",
       "    </tr>\n",
       "    <tr>\n",
       "      <th>4</th>\n",
       "      <td>Sadia</td>\n",
       "      <td>Chowdhury</td>\n",
       "      <td>sadia.chowdhury@du.ac.bd</td>\n",
       "      <td>University of Dhaka</td>\n",
       "    </tr>\n",
       "  </tbody>\n",
       "</table>\n",
       "</div>"
      ],
      "text/plain": [
       "  first_name  last_name                      email              company\n",
       "0     Nusrat      Jahan      nusrat.jahan@brac.org                 BRAC\n",
       "1     Mehedi      Hasan     mehedi.hasan@bkash.com                bKash\n",
       "2     Takowa      Ullah        takowa420@gmail.com               google\n",
       "3    Farhana      Akter  farhana.akter@robi.com.bd                 Robi\n",
       "4      Sadia  Chowdhury   sadia.chowdhury@du.ac.bd  University of Dhaka"
      ]
     },
     "execution_count": 30,
     "metadata": {},
     "output_type": "execute_result"
    }
   ],
   "source": [
    "df[\"email\"] = df[\"email\"].str.lower()\n",
    "df"
   ]
  },
  {
   "cell_type": "code",
   "execution_count": 31,
   "id": "8f8c78e8",
   "metadata": {},
   "outputs": [
    {
     "data": {
      "application/vnd.microsoft.datawrangler.viewer.v0+json": {
       "columns": [
        {
         "name": "index",
         "rawType": "int64",
         "type": "integer"
        },
        {
         "name": "First Name",
         "rawType": "object",
         "type": "string"
        },
        {
         "name": "Last Name",
         "rawType": "object",
         "type": "string"
        },
        {
         "name": "email",
         "rawType": "object",
         "type": "string"
        },
        {
         "name": "Company",
         "rawType": "object",
         "type": "string"
        }
       ],
       "ref": "78d98eda-1331-4be8-837e-468c14e43336",
       "rows": [
        [
         "0",
         "Nusrat",
         "Jahan",
         "nusrat.jahan@brac.org",
         "BRAC"
        ],
        [
         "1",
         "Mehedi",
         "Hasan",
         "mehedi.hasan@bkash.com",
         "bKash"
        ],
        [
         "2",
         "Takowa",
         "Ullah",
         "takowa420@gmail.com",
         "google"
        ],
        [
         "3",
         "Farhana",
         "Akter",
         "farhana.akter@robi.com.bd",
         "Robi"
        ],
        [
         "4",
         "Sadia",
         "Chowdhury",
         "sadia.chowdhury@du.ac.bd",
         "University of Dhaka"
        ]
       ],
       "shape": {
        "columns": 4,
        "rows": 5
       }
      },
      "text/html": [
       "<div>\n",
       "<style scoped>\n",
       "    .dataframe tbody tr th:only-of-type {\n",
       "        vertical-align: middle;\n",
       "    }\n",
       "\n",
       "    .dataframe tbody tr th {\n",
       "        vertical-align: top;\n",
       "    }\n",
       "\n",
       "    .dataframe thead th {\n",
       "        text-align: right;\n",
       "    }\n",
       "</style>\n",
       "<table border=\"1\" class=\"dataframe\">\n",
       "  <thead>\n",
       "    <tr style=\"text-align: right;\">\n",
       "      <th></th>\n",
       "      <th>First Name</th>\n",
       "      <th>Last Name</th>\n",
       "      <th>email</th>\n",
       "      <th>Company</th>\n",
       "    </tr>\n",
       "  </thead>\n",
       "  <tbody>\n",
       "    <tr>\n",
       "      <th>0</th>\n",
       "      <td>Nusrat</td>\n",
       "      <td>Jahan</td>\n",
       "      <td>nusrat.jahan@brac.org</td>\n",
       "      <td>BRAC</td>\n",
       "    </tr>\n",
       "    <tr>\n",
       "      <th>1</th>\n",
       "      <td>Mehedi</td>\n",
       "      <td>Hasan</td>\n",
       "      <td>mehedi.hasan@bkash.com</td>\n",
       "      <td>bKash</td>\n",
       "    </tr>\n",
       "    <tr>\n",
       "      <th>2</th>\n",
       "      <td>Takowa</td>\n",
       "      <td>Ullah</td>\n",
       "      <td>takowa420@gmail.com</td>\n",
       "      <td>google</td>\n",
       "    </tr>\n",
       "    <tr>\n",
       "      <th>3</th>\n",
       "      <td>Farhana</td>\n",
       "      <td>Akter</td>\n",
       "      <td>farhana.akter@robi.com.bd</td>\n",
       "      <td>Robi</td>\n",
       "    </tr>\n",
       "    <tr>\n",
       "      <th>4</th>\n",
       "      <td>Sadia</td>\n",
       "      <td>Chowdhury</td>\n",
       "      <td>sadia.chowdhury@du.ac.bd</td>\n",
       "      <td>University of Dhaka</td>\n",
       "    </tr>\n",
       "  </tbody>\n",
       "</table>\n",
       "</div>"
      ],
      "text/plain": [
       "  First Name  Last Name                      email              Company\n",
       "0     Nusrat      Jahan      nusrat.jahan@brac.org                 BRAC\n",
       "1     Mehedi      Hasan     mehedi.hasan@bkash.com                bKash\n",
       "2     Takowa      Ullah        takowa420@gmail.com               google\n",
       "3    Farhana      Akter  farhana.akter@robi.com.bd                 Robi\n",
       "4      Sadia  Chowdhury   sadia.chowdhury@du.ac.bd  University of Dhaka"
      ]
     },
     "execution_count": 31,
     "metadata": {},
     "output_type": "execute_result"
    }
   ],
   "source": [
    "df.columns = [\"First Name\", \"Last Name\", \"email\", 'Company']\n",
    "df"
   ]
  },
  {
   "cell_type": "code",
   "execution_count": 35,
   "id": "899de3c9",
   "metadata": {},
   "outputs": [],
   "source": [
    "df.rename(columns={\"First Name\" : \"First\", 'Last Name' : 'Last'}, inplace = True)"
   ]
  },
  {
   "cell_type": "code",
   "execution_count": 36,
   "id": "2ce0c9d6",
   "metadata": {},
   "outputs": [
    {
     "data": {
      "application/vnd.microsoft.datawrangler.viewer.v0+json": {
       "columns": [
        {
         "name": "index",
         "rawType": "int64",
         "type": "integer"
        },
        {
         "name": "First",
         "rawType": "object",
         "type": "string"
        },
        {
         "name": "Last",
         "rawType": "object",
         "type": "string"
        },
        {
         "name": "email",
         "rawType": "object",
         "type": "string"
        },
        {
         "name": "Company",
         "rawType": "object",
         "type": "string"
        }
       ],
       "ref": "ab20391a-1a89-43a4-ab00-5680311cdab4",
       "rows": [
        [
         "0",
         "Nusrat",
         "Jahan",
         "nusrat.jahan@brac.org",
         "BRAC"
        ],
        [
         "1",
         "Mehedi",
         "Hasan",
         "mehedi.hasan@bkash.com",
         "bKash"
        ],
        [
         "2",
         "Takowa",
         "Ullah",
         "takowa420@gmail.com",
         "google"
        ],
        [
         "3",
         "Farhana",
         "Akter",
         "farhana.akter@robi.com.bd",
         "Robi"
        ],
        [
         "4",
         "Sadia",
         "Chowdhury",
         "sadia.chowdhury@du.ac.bd",
         "University of Dhaka"
        ]
       ],
       "shape": {
        "columns": 4,
        "rows": 5
       }
      },
      "text/html": [
       "<div>\n",
       "<style scoped>\n",
       "    .dataframe tbody tr th:only-of-type {\n",
       "        vertical-align: middle;\n",
       "    }\n",
       "\n",
       "    .dataframe tbody tr th {\n",
       "        vertical-align: top;\n",
       "    }\n",
       "\n",
       "    .dataframe thead th {\n",
       "        text-align: right;\n",
       "    }\n",
       "</style>\n",
       "<table border=\"1\" class=\"dataframe\">\n",
       "  <thead>\n",
       "    <tr style=\"text-align: right;\">\n",
       "      <th></th>\n",
       "      <th>First</th>\n",
       "      <th>Last</th>\n",
       "      <th>email</th>\n",
       "      <th>Company</th>\n",
       "    </tr>\n",
       "  </thead>\n",
       "  <tbody>\n",
       "    <tr>\n",
       "      <th>0</th>\n",
       "      <td>Nusrat</td>\n",
       "      <td>Jahan</td>\n",
       "      <td>nusrat.jahan@brac.org</td>\n",
       "      <td>BRAC</td>\n",
       "    </tr>\n",
       "    <tr>\n",
       "      <th>1</th>\n",
       "      <td>Mehedi</td>\n",
       "      <td>Hasan</td>\n",
       "      <td>mehedi.hasan@bkash.com</td>\n",
       "      <td>bKash</td>\n",
       "    </tr>\n",
       "    <tr>\n",
       "      <th>2</th>\n",
       "      <td>Takowa</td>\n",
       "      <td>Ullah</td>\n",
       "      <td>takowa420@gmail.com</td>\n",
       "      <td>google</td>\n",
       "    </tr>\n",
       "    <tr>\n",
       "      <th>3</th>\n",
       "      <td>Farhana</td>\n",
       "      <td>Akter</td>\n",
       "      <td>farhana.akter@robi.com.bd</td>\n",
       "      <td>Robi</td>\n",
       "    </tr>\n",
       "    <tr>\n",
       "      <th>4</th>\n",
       "      <td>Sadia</td>\n",
       "      <td>Chowdhury</td>\n",
       "      <td>sadia.chowdhury@du.ac.bd</td>\n",
       "      <td>University of Dhaka</td>\n",
       "    </tr>\n",
       "  </tbody>\n",
       "</table>\n",
       "</div>"
      ],
      "text/plain": [
       "     First       Last                      email              Company\n",
       "0   Nusrat      Jahan      nusrat.jahan@brac.org                 BRAC\n",
       "1   Mehedi      Hasan     mehedi.hasan@bkash.com                bKash\n",
       "2   Takowa      Ullah        takowa420@gmail.com               google\n",
       "3  Farhana      Akter  farhana.akter@robi.com.bd                 Robi\n",
       "4    Sadia  Chowdhury   sadia.chowdhury@du.ac.bd  University of Dhaka"
      ]
     },
     "execution_count": 36,
     "metadata": {},
     "output_type": "execute_result"
    }
   ],
   "source": [
    "df"
   ]
  },
  {
   "cell_type": "code",
   "execution_count": null,
   "id": "c56ac612",
   "metadata": {},
   "outputs": [],
   "source": []
  },
  {
   "cell_type": "code",
   "execution_count": null,
   "id": "1dde6622",
   "metadata": {},
   "outputs": [],
   "source": []
  },
  {
   "cell_type": "code",
   "execution_count": null,
   "id": "3c83af07",
   "metadata": {},
   "outputs": [],
   "source": []
  }
 ],
 "metadata": {
  "kernelspec": {
   "display_name": "myvenv",
   "language": "python",
   "name": "python3"
  },
  "language_info": {
   "codemirror_mode": {
    "name": "ipython",
    "version": 3
   },
   "file_extension": ".py",
   "mimetype": "text/x-python",
   "name": "python",
   "nbconvert_exporter": "python",
   "pygments_lexer": "ipython3",
   "version": "3.10.18"
  }
 },
 "nbformat": 4,
 "nbformat_minor": 5
}
