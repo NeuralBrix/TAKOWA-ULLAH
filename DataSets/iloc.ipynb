{
 "cells": [
  {
   "cell_type": "code",
   "execution_count": 4,
   "id": "7e20dd2c",
   "metadata": {},
   "outputs": [],
   "source": [
    "import pandas as pd"
   ]
  },
  {
   "cell_type": "code",
   "execution_count": null,
   "id": "5943161b",
   "metadata": {},
   "outputs": [
    {
     "name": "stdout",
     "output_type": "stream",
     "text": [
      "     Name  age       city\n",
      "0    alic   20      dhaka\n",
      "1     bob   35   rajshahi\n",
      "2  carlie   25  sirajgonj\n",
      "3    alen   40     bogura\n"
     ]
    }
   ],
   "source": [
    "# iloc \n",
    "# exclusive\n",
    "\n",
    "df = pd.DataFrame({\n",
    "    \"Name\" : [\"alic\", \"bob\", \"carlie\", \"alen\"],\n",
    "    \"age\" : [20, 35, 25, 40],\n",
    "    \"city\" : [\"dhaka\",\"rajshahi\",\"sirajgonj\",\"bogura\"]\n",
    "})\n",
    "print(df)"
   ]
  },
  {
   "cell_type": "code",
   "execution_count": null,
   "id": "8d1a6936",
   "metadata": {},
   "outputs": [
    {
     "name": "stdout",
     "output_type": "stream",
     "text": [
      "     Name  age       city\n",
      "0    alic   20      dhaka\n",
      "1     bob   35   rajshahi\n",
      "2  carlie   25  sirajgonj\n"
     ]
    }
   ],
   "source": [
    "# iloc slicing\n",
    "print(df.iloc[0:3])"
   ]
  },
  {
   "cell_type": "code",
   "execution_count": 7,
   "id": "4df9aa4f",
   "metadata": {},
   "outputs": [
    {
     "name": "stdout",
     "output_type": "stream",
     "text": [
      "     Name  age       city\n",
      "0    alic   20      dhaka\n",
      "1     bob   35   rajshahi\n",
      "2  carlie   25  sirajgonj\n",
      "3    alen   40     bogura\n"
     ]
    }
   ],
   "source": [
    "print(df.iloc[:])"
   ]
  },
  {
   "cell_type": "code",
   "execution_count": 10,
   "id": "f2936cdc",
   "metadata": {},
   "outputs": [
    {
     "name": "stdout",
     "output_type": "stream",
     "text": [
      "     Name  age       city\n",
      "0    alic   20      dhaka\n",
      "2  carlie   25  sirajgonj\n"
     ]
    }
   ],
   "source": [
    "print(df.iloc[0:3:2])"
   ]
  },
  {
   "cell_type": "code",
   "execution_count": 14,
   "id": "92dd7d1f",
   "metadata": {},
   "outputs": [
    {
     "name": "stdout",
     "output_type": "stream",
     "text": [
      "   age       city\n",
      "0   20      dhaka\n",
      "1   35   rajshahi\n",
      "2   25  sirajgonj\n"
     ]
    }
   ],
   "source": [
    "#colum slicing\n",
    "print(df.iloc[0:3, 1:])"
   ]
  },
  {
   "cell_type": "code",
   "execution_count": 13,
   "id": "54ca1baa",
   "metadata": {},
   "outputs": [
    {
     "name": "stdout",
     "output_type": "stream",
     "text": [
      "     Name  age       city\n",
      "0    alic   20      dhaka\n",
      "1     bob   35   rajshahi\n",
      "2  carlie   25  sirajgonj\n"
     ]
    }
   ],
   "source": [
    "print(df.iloc[0:3, :])"
   ]
  },
  {
   "cell_type": "code",
   "execution_count": null,
   "id": "62118a77",
   "metadata": {},
   "outputs": [],
   "source": []
  },
  {
   "cell_type": "code",
   "execution_count": null,
   "id": "8688d085",
   "metadata": {},
   "outputs": [],
   "source": []
  },
  {
   "cell_type": "code",
   "execution_count": null,
   "id": "4d0cb7a2",
   "metadata": {},
   "outputs": [],
   "source": []
  },
  {
   "cell_type": "code",
   "execution_count": null,
   "id": "3b3b2039",
   "metadata": {},
   "outputs": [],
   "source": []
  },
  {
   "cell_type": "code",
   "execution_count": null,
   "id": "2afdb31c",
   "metadata": {},
   "outputs": [],
   "source": []
  },
  {
   "cell_type": "code",
   "execution_count": null,
   "id": "c0ae04ae",
   "metadata": {},
   "outputs": [],
   "source": []
  },
  {
   "cell_type": "code",
   "execution_count": null,
   "id": "f409ca56",
   "metadata": {},
   "outputs": [],
   "source": []
  }
 ],
 "metadata": {
  "kernelspec": {
   "display_name": "myvenv",
   "language": "python",
   "name": "python3"
  },
  "language_info": {
   "codemirror_mode": {
    "name": "ipython",
    "version": 3
   },
   "file_extension": ".py",
   "mimetype": "text/x-python",
   "name": "python",
   "nbconvert_exporter": "python",
   "pygments_lexer": "ipython3",
   "version": "3.10.18"
  }
 },
 "nbformat": 4,
 "nbformat_minor": 5
}
